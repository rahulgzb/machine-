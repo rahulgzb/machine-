{
 "cells": [
  {
   "cell_type": "markdown",
   "source": [
    "# Modules"
   ],
   "metadata": {}
  },
  {
   "cell_type": "code",
   "execution_count": 1,
   "source": [
    "import pandas as pd\r\n",
    "import numpy as np\r\n",
    "import random\r\n",
    "import math\r\n",
    "\r\n",
    "import matplotlib.pyplot as plt\r\n",
    "%matplotlib inline\r\n",
    "\r\n",
    "from pprint import pprint\r\n"
   ],
   "outputs": [],
   "metadata": {}
  },
  {
   "cell_type": "code",
   "execution_count": 2,
   "source": [
    "#load data into panda data frame\r\n",
    "df = pd.read_csv(\"mydata.txt\") "
   ],
   "outputs": [],
   "metadata": {}
  },
  {
   "cell_type": "markdown",
   "source": [
    "# 80/20 spliting of data"
   ],
   "metadata": {}
  },
  {
   "cell_type": "code",
   "execution_count": 3,
   "source": [
    "def train_test_split(df, test_size):\r\n",
    "    \r\n",
    "    if isinstance(test_size, float):\r\n",
    "        test_size = round(test_size * len(df))\r\n",
    "\r\n",
    "    indices = df.index.tolist()\r\n",
    "    test_indices = random.sample(population=indices, k=test_size)\r\n",
    "\r\n",
    "    test_df = df.loc[test_indices]\r\n",
    "    train_df = df.drop(test_indices)\r\n",
    "    \r\n",
    "    return train_df, test_df\r\n"
   ],
   "outputs": [],
   "metadata": {}
  },
  {
   "cell_type": "code",
   "execution_count": 4,
   "source": [
    "random.seed(0)\n",
    "train_df, test_df = train_test_split(df, test_size=0.2)"
   ],
   "outputs": [],
   "metadata": {}
  },
  {
   "cell_type": "markdown",
   "source": [
    "# Determing the type of feature"
   ],
   "metadata": {}
  },
  {
   "cell_type": "code",
   "execution_count": 5,
   "source": [
    "def determine_type_of_feature(df):\n",
    "    \n",
    "    feature_types = []\n",
    "    n_unique_values_treshold = 15\n",
    "    for feature in df.columns:\n",
    "        if feature != \"label\":\n",
    "            unique_values = df[feature].unique()\n",
    "            example_value = unique_values[0]\n",
    "\n",
    "            if (isinstance(example_value, str)) or (len(unique_values) <= n_unique_values_treshold):\n",
    "                feature_types.append(\"categorical\")\n",
    "            else:\n",
    "                feature_types.append(\"continuous\")\n",
    "    \n",
    "    return feature_types"
   ],
   "outputs": [],
   "metadata": {}
  },
  {
   "cell_type": "markdown",
   "source": [
    "# Tree based on information gain "
   ],
   "metadata": {}
  },
  {
   "cell_type": "code",
   "execution_count": 6,
   "source": [
    "def check_purity(data):\n",
    "    \n",
    "    label_column = data[:, -1]\n",
    "    unique_classes = np.unique(label_column)\n",
    "\n",
    "    if len(unique_classes) == 1:\n",
    "        return True\n",
    "    else:\n",
    "        return False"
   ],
   "outputs": [],
   "metadata": {}
  },
  {
   "cell_type": "code",
   "execution_count": 7,
   "source": [
    "feature_types = determine_type_of_feature(df)\n",
    "i=0\n",
    "for column in df.columns:\n",
    "    print(column, \"-\",feature_types[i])\n",
    "    i = i + 1\n",
    "    "
   ],
   "outputs": [
    {
     "output_type": "stream",
     "name": "stdout",
     "text": [
      "intercolumnardistance - continuous\n",
      "uppermargin - continuous\n",
      "lowermargin - continuous\n",
      "exploitation - continuous\n",
      "rownumber - continuous\n",
      "modularratio - continuous\n",
      "interlinearspacing - continuous\n",
      "weight - continuous\n",
      "peaknumber - continuous\n",
      "ratio - continuous\n",
      "lable - categorical\n"
     ]
    }
   ],
   "metadata": {}
  },
  {
   "cell_type": "code",
   "execution_count": 8,
   "source": [
    "def classify_data(data):\n",
    "    \n",
    "    label_column = data[:, -1]\n",
    "    unique_classes, counts_unique_classes = np.unique(label_column, return_counts=True)\n",
    "\n",
    "    index = counts_unique_classes.argmax()\n",
    "    classification = unique_classes[index]\n",
    "    \n",
    "    return classification"
   ],
   "outputs": [],
   "metadata": {}
  },
  {
   "cell_type": "code",
   "execution_count": 9,
   "source": [
    "def split_data(data, split_column, split_value):\n",
    "    \n",
    "    split_column_values = data[:, split_column]\n",
    "\n",
    "    type_of_feature = FEATURE_TYPES[split_column]\n",
    "    if type_of_feature == \"continuous\":\n",
    "        data_below = data[split_column_values <= split_value]\n",
    "        data_above = data[split_column_values >  split_value]\n",
    "    \n",
    "    # feature is categorical   \n",
    "    else:\n",
    "        data_below = data[split_column_values == split_value]\n",
    "        data_above = data[split_column_values != split_value]\n",
    "    \n",
    "    return data_below, data_above"
   ],
   "outputs": [],
   "metadata": {}
  },
  {
   "cell_type": "code",
   "execution_count": 10,
   "source": [
    "def calculate_overall_entropy(data_below, data_above):\n",
    "    \n",
    "    n = len(data_below) + len(data_above)\n",
    "    p_data_below = len(data_below) / n\n",
    "    p_data_above = len(data_above) / n\n",
    "\n",
    "    overall_entropy =  (p_data_below * calculate_entropy(data_below) \n",
    "                      + p_data_above * calculate_entropy(data_above))\n",
    "    \n",
    "    return overall_entropy"
   ],
   "outputs": [],
   "metadata": {}
  },
  {
   "cell_type": "code",
   "execution_count": 11,
   "source": [
    "def calculate_entropy(data):\n",
    "    \n",
    "    label_column = data[:, -1]\n",
    "    _, counts = np.unique(label_column, return_counts=True)\n",
    "\n",
    "    probabilities = counts / counts.sum()\n",
    "    entropy = sum(probabilities * -np.log2(probabilities))\n",
    "     \n",
    "    return entropy"
   ],
   "outputs": [],
   "metadata": {}
  },
  {
   "cell_type": "code",
   "execution_count": 12,
   "source": [
    "def get_potential_splits(data):\n",
    "    \n",
    "    potential_splits = {}\n",
    "    _, n_columns = data.shape\n",
    "    for column_index in range(n_columns - 1):          # excluding the last column which is the label\n",
    "        values = data[:, column_index]\n",
    "        unique_values = np.unique(values)\n",
    "        \n",
    "        type_of_feature = FEATURE_TYPES[column_index]\n",
    "        if type_of_feature == \"continuous\":\n",
    "            potential_splits[column_index] = []\n",
    "            for index in range(len(unique_values)):\n",
    "                if index != 0:\n",
    "                    current_value = unique_values[index]\n",
    "                    previous_value = unique_values[index - 1]\n",
    "                    potential_split = (current_value + previous_value) / 2\n",
    "\n",
    "                    potential_splits[column_index].append(potential_split)\n",
    "        \n",
    "        # feature is categorical\n",
    "        # (there need to be at least 2 unique values, otherwise in the\n",
    "        # split_data function data_below would contain all data points\n",
    "        # and data_above would be empty)\n",
    "        elif len(unique_values) > 1:\n",
    "            potential_splits[column_index] = unique_values\n",
    "    \n",
    "    return potential_splits"
   ],
   "outputs": [],
   "metadata": {}
  },
  {
   "cell_type": "markdown",
   "source": [
    "Best split based on the information gain"
   ],
   "metadata": {}
  },
  {
   "cell_type": "code",
   "execution_count": 13,
   "source": [
    "def determine_best_split(data, potential_splits):\n",
    "    \n",
    "    #overall_entropy = 9999\n",
    "    information_gain = -999\n",
    "    entropy_parent = 0\n",
    "    for column_index in potential_splits:\n",
    "        for value in potential_splits[column_index]:\n",
    "            data_below, data_above = split_data(data, split_column=column_index, split_value=value)\n",
    "            current_overall_entropy = calculate_overall_entropy(data_below, data_above)\n",
    "            #calculation_of_information_gain\n",
    "            current_information_gain= entropy_parent - current_overall_entropy\n",
    "\n",
    "            if current_information_gain > information_gain:\n",
    "                information_gain = current_information_gain\n",
    "                best_split_column = column_index\n",
    "                best_split_value = value\n",
    "                entropy_parent=current_overall_entropy\n",
    "    \n",
    "    return best_split_column, best_split_value,"
   ],
   "outputs": [],
   "metadata": {}
  },
  {
   "cell_type": "code",
   "execution_count": 14,
   "source": [
    "def decision_tree_algorithm(df, max_depth, counter=0, min_samples=2):\n",
    "    \n",
    "    # data preparations\n",
    "    if counter == 0:\n",
    "        global COLUMN_HEADERS, FEATURE_TYPES\n",
    "        COLUMN_HEADERS = df.columns\n",
    "        FEATURE_TYPES = determine_type_of_feature(df)\n",
    "        data = df.values\n",
    "    else:\n",
    "        data = df           \n",
    "    \n",
    "    \n",
    "    # base cases\n",
    "    if (check_purity(data)) or (len(data) < min_samples) or (counter == max_depth):\n",
    "        classification = classify_data(data)\n",
    "        \n",
    "        return classification\n",
    "\n",
    "    \n",
    "    # recursive part\n",
    "    else:    \n",
    "        counter += 1\n",
    "\n",
    "        # potential split functions \n",
    "        potential_splits = get_potential_splits(data)\n",
    "        split_column, split_value = determine_best_split(data, potential_splits)\n",
    "        data_below, data_above = split_data(data, split_column, split_value)\n",
    "        \n",
    "       \n",
    "        feature_name = COLUMN_HEADERS[split_column]\n",
    "        type_of_feature = FEATURE_TYPES[split_column]\n",
    "        if type_of_feature == \"continuous\":\n",
    "            question = \"{} <= {}\".format(feature_name, split_value)\n",
    "            \n",
    "        # feature is categorical\n",
    "        else:\n",
    "            question = \"{} = {}\".format(feature_name, split_value)\n",
    "        \n",
    "        # instantiate sub-tree\n",
    "        sub_tree = {question: []}\n",
    "        \n",
    "        # find answers (recursion) based on decision\n",
    "        yes_answer = decision_tree_algorithm(data_below, counter, min_samples, max_depth)\n",
    "        no_answer = decision_tree_algorithm(data_above, counter, min_samples, max_depth)\n",
    "        \n",
    "        if yes_answer == no_answer:\n",
    "            sub_tree = yes_answer\n",
    "        else:\n",
    "            sub_tree[question].append(yes_answer)\n",
    "            sub_tree[question].append(no_answer)\n",
    "        \n",
    "        return sub_tree"
   ],
   "outputs": [],
   "metadata": {}
  },
  {
   "cell_type": "code",
   "execution_count": 15,
   "source": [
    "information_gain_tree = decision_tree_algorithm(df,10)"
   ],
   "outputs": [],
   "metadata": {}
  },
  {
   "cell_type": "code",
   "execution_count": 16,
   "source": [
    "pprint(information_gain_tree)"
   ],
   "outputs": [
    {
     "output_type": "stream",
     "name": "stdout",
     "text": [
      "{'rownumber <= 0.306407': [{'intercolumnardistance <= -0.19682': [{'intercolumnardistance <= -1.5484715': [{'intercolumnardistance <= -2.6902775': [{'interlinearspacing <= -0.3272045': [{'interlinearspacing <= -2.101474': ['A',\n",
      "                                                                                                                                                                                                                               {'uppermargin <= 0.5095815': ['I',\n",
      "                                                                                                                                                                                                                                                             'Y']}]},\n",
      "                                                                                                                                                                                          {'exploitation <= 1.0325280000000001': [{'lowermargin <= 0.23918299999999998': [{'uppermargin <= 14.111756': ['A',\n",
      "                                                                                                                                                                                                                                                                                                        'C']},\n",
      "                                                                                                                                                                                                                                                                          {'interlinearspacing <= 0.257927': ['A',\n",
      "                                                                                                                                                                                                                                                                                                              {'uppermargin <= -0.0753315': ['A',\n",
      "                                                                                                                                                                                                                                                                                                                                             {'uppermargin <= -0.0282245': ['W',\n",
      "                                                                                                                                                                                                                                                                                                                                                                            'A']}]}]}]},\n",
      "                                                                                                                                                                                                                                  'X']}]},\n",
      "                                                                                                                                                    {'intercolumnardistance <= -2.461916': [{'intercolumnardistance <= -2.548323': ['H',\n",
      "                                                                                                                                                                                                                                    'F']},\n",
      "                                                                                                                                                                                            'A']}]},\n",
      "                                                                                                           {'exploitation <= 1.057264': [{'intercolumnardistance <= -0.35729': [{'rownumber <= 0.217029': [{'intercolumnardistance <= -0.369634': ['D',\n",
      "                                                                                                                                                                                                                                                   'C']},\n",
      "                                                                                                                                                                                                           {'lowermargin <= 0.10404': ['G',\n",
      "                                                                                                                                                                                                                                       {'exploitation <= -0.589498': ['C',\n",
      "                                                                                                                                                                                                                                                                      'E']}]}]},\n",
      "                                                                                                                                                                                {'peaknumber <= 0.7033039999999999': [{'intercolumnardistance <= -0.20916400000000002': [{'lowermargin <= 0.2427395': [{'uppermargin <= 0.3250785': [{'modularratio <= 1.5398715': [{'exploitation <= -0.11520749999999999': ['E',\n",
      "                                                                                                                                                                                                                                                                                                                                                                                                              {'intercolumnardistance <= -0.277055': ['E',\n",
      "                                                                                                                                                                                                                                                                                                                                                                                                                                                      {'modularratio <= -0.43255849999999996': ['E',\n",
      "                                                                                                                                                                                                                                                                                                                                                                                                                                                                                                'A']}]}]},\n",
      "                                                                                                                                                                                                                                                                                                                                                                    'A']},\n",
      "                                                                                                                                                                                                                                                                                                                                     'F']},\n",
      "                                                                                                                                                                                                                                                                                                       {'exploitation <= -0.171721': [{'uppermargin <= -0.2009505': ['E',\n",
      "                                                                                                                                                                                                                                                                                                                                                                     'A']},\n",
      "                                                                                                                                                                                                                                                                                                                                      {'uppermargin <= -0.754459': ['D',\n",
      "                                                                                                                                                                                                                                                                                                                                                                    {'lowermargin <= 0.45434549999999996': [{'lowermargin <= 0.3209805': ['E',\n",
      "                                                                                                                                                                                                                                                                                                                                                                                                                                          {'exploitation <= -0.041716': ['E',\n",
      "                                                                                                                                                                                                                                                                                                                                                                                                                                                                         'D']}]},\n",
      "                                                                                                                                                                                                                                                                                                                                                                                                            'E']}]}]}]},\n",
      "                                                                                                                                                                                                                                                                         {'lowermargin <= 0.4116685': ['D',\n",
      "                                                                                                                                                                                                                                                                                                       {'rownumber <= -0.140484': ['E',\n",
      "                                                                                                                                                                                                                                                                                                                                   'A']}]}]},\n",
      "                                                                                                                                                                                                                      {'peaknumber <= 1.3581150000000002': [{'peaknumber <= 0.7968485000000001': [{'intercolumnardistance <= -0.2400235': ['E',\n",
      "                                                                                                                                                                                                                                                                                                                                           {'intercolumnardistance <= -0.20916400000000002': ['E',\n",
      "                                                                                                                                                                                                                                                                                                                                                                                              'D']}]},\n",
      "                                                                                                                                                                                                                                                                                                  'E']},\n",
      "                                                                                                                                                                                                                                                            'X']}]}]},\n",
      "                                                                                                                                         {'intercolumnardistance <= -0.530104': [{'intercolumnardistance <= -0.6535425': [{'intercolumnardistance <= -0.776981': ['X',\n",
      "                                                                                                                                                                                                                                                                  'E']},\n",
      "                                                                                                                                                                                                                          'Y']},\n",
      "                                                                                                                                                                                 {'intercolumnardistance <= -0.4004935': [{'intercolumnardistance <= -0.41900899999999996': ['X',\n",
      "                                                                                                                                                                                                                                                                             'E']},\n",
      "                                                                                                                                                                                                                          {'uppermargin <= -0.26376': [{'intercolumnardistance <= -0.3079145': ['X',\n",
      "                                                                                                                                                                                                                                                                                                'A']},\n",
      "                                                                                                                                                                                                                                                       {'uppermargin <= 0.301525': ['X',\n",
      "                                                                                                                                                                                                                                                                                    'E']}]}]}]}]}]},\n",
      "                                                                  {'uppermargin <= -0.0282245': [{'intercolumnardistance <= -0.08572550000000001': [{'uppermargin <= -0.5189235': [{'uppermargin <= -1.064581': ['D',\n",
      "                                                                                                                                                                                                                 {'intercolumnardistance <= -0.1659605': ['E',\n",
      "                                                                                                                                                                                                                                                          'D']}]},\n",
      "                                                                                                                                                                                   {'lowermargin <= 0.06314149999999999': [{'exploitation <= -0.8792854999999999': ['D',\n",
      "                                                                                                                                                                                                                                                                    'A']},\n",
      "                                                                                                                                                                                                                           {'exploitation <= -0.0801925': [{'intercolumnardistance <= -0.14127299999999998': [{'intercolumnardistance <= -0.1659605': ['A',\n",
      "                                                                                                                                                                                                                                                                                                                                                       'F']},\n",
      "                                                                                                                                                                                                                                                                                                              {'uppermargin <= -0.051778': ['E',\n",
      "                                                                                                                                                                                                                                                                                                                                            'F']}]},\n",
      "                                                                                                                                                                                                                                                           {'modularratio <= 0.12802750000000002': [{'uppermargin <= -0.043926999999999994': [{'rownumber <= -0.0064165000000000055': ['A',\n",
      "                                                                                                                                                                                                                                                                                                                                                                                       'F']},\n",
      "                                                                                                                                                                                                                                                                                                                                              'A']},\n",
      "                                                                                                                                                                                                                                                                                                    {'uppermargin <= -0.3187185': ['F',\n",
      "                                                                                                                                                                                                                                                                                                                                   {'exploitation <= 1.284898': [{'uppermargin <= -0.2912395': ['C',\n",
      "                                                                                                                                                                                                                                                                                                                                                                                                {'lowermargin <= 0.26407800000000003': [{'intercolumnardistance <= -0.098069': ['F',\n",
      "                                                                                                                                                                                                                                                                                                                                                                                                                                                                                'A']},\n",
      "                                                                                                                                                                                                                                                                                                                                                                                                                                        'A']}]},\n",
      "                                                                                                                                                                                                                                                                                                                                                                 'E']}]}]}]}]}]},\n",
      "                                                                                                                                                    {'lowermargin <= 0.134269': [{'intercolumnardistance <= 0.006853499999999999': [{'exploitation <= -1.6279075': ['C',\n",
      "                                                                                                                                                                                                                                                                    {'exploitation <= -0.976632': [{'intercolumnardistance <= -0.030177999999999996': ['A',\n",
      "                                                                                                                                                                                                                                                                                                                                                       'F']},\n",
      "                                                                                                                                                                                                                                                                                                   {'intercolumnardistance <= -0.048694': [{'intercolumnardistance <= -0.061038': ['A',\n",
      "                                                                                                                                                                                                                                                                                                                                                                                   'F']},\n",
      "                                                                                                                                                                                                                                                                                                                                           'A']}]}]},\n",
      "                                                                                                                                                                                                                                    {'intercolumnardistance <= 0.0809165': [{'lowermargin <= -1.2242769999999998': [{'lowermargin <= -2.6503945': [{'uppermargin <= -0.6720215': ['A',\n",
      "                                                                                                                                                                                                                                                                                                                                                                                  'F']},\n",
      "                                                                                                                                                                                                                                                                                                                                                   'E']},\n",
      "                                                                                                                                                                                                                                                                                                                    'A']},\n",
      "                                                                                                                                                                                                                                                                            {'peaknumber <= 0.6097595': ['A',\n",
      "                                                                                                                                                                                                                                                                                                         {'intercolumnardistance <= 0.4820915': ['E',\n",
      "                                                                                                                                                                                                                                                                                                                                                 'I']}]}]}]},\n",
      "                                                                                                                                                                                 {'lowermargin <= 0.5059135': [{'exploitation <= 0.1130835': [{'intercolumnardistance <= -0.011661999999999999': [{'lowermargin <= 0.239183': ['E',\n",
      "                                                                                                                                                                                                                                                                                                                               'F']},\n",
      "                                                                                                                                                                                                                                                                                                  {'lowermargin <= 0.3298715': [{'lowermargin <= 0.166277': ['A',\n",
      "                                                                                                                                                                                                                                                                                                                                                             {'exploitation <= -1.100624': [{'intercolumnardistance <= 3.2841455': ['A',\n",
      "                                                                                                                                                                                                                                                                                                                                                                                                                                    'F']},\n",
      "                                                                                                                                                                                                                                                                                                                                                                                            {'uppermargin <= -0.255909': [{'uppermargin <= -0.32656949999999996': [{'uppermargin <= -0.4011555': ['A',\n",
      "                                                                                                                                                                                                                                                                                                                                                                                                                                                                                                  'F']},\n",
      "                                                                                                                                                                                                                                                                                                                                                                                                                                                                   'A']},\n",
      "                                                                                                                                                                                                                                                                                                                                                                                                                          'F']}]}]},\n",
      "                                                                                                                                                                                                                                                                                                                                {'uppermargin <= -0.1028105': [{'uppermargin <= -0.5464025': ['A',\n",
      "                                                                                                                                                                                                                                                                                                                                                                                              {'uppermargin <= -0.35012299999999996': ['F',\n",
      "                                                                                                                                                                                                                                                                                                                                                                                                                                       {'intercolumnardistance <= 0.04388499999999999': ['F',\n",
      "                                                                                                                                                                                                                                                                                                                                                                                                                                                                                         {'uppermargin <= -0.318718': ['F',\n",
      "                                                                                                                                                                                                                                                                                                                                                                                                                                                                                                                       {'intercolumnardistance <= 0.09943199999999999': [{'exploitation <= -0.392955': ['F',\n",
      "                                                                                                                                                                                                                                                                                                                                                                                                                                                                                                                                                                                                        'A']},\n",
      "                                                                                                                                                                                                                                                                                                                                                                                                                                                                                                                                                                         {'intercolumnardistance <= 0.26607400000000003': ['A',\n",
      "                                                                                                                                                                                                                                                                                                                                                                                                                                                                                                                                                                                                                           {'exploitation <= -1.722121': ['A',\n",
      "                                                                                                                                                                                                                                                                                                                                                                                                                                                                                                                                                                                                                                                          {'intercolumnardistance <= 0.432716': ['F',\n",
      "                                                                                                                                                                                                                                                                                                                                                                                                                                                                                                                                                                                                                                                                                                 'A']}]}]}]}]}]}]}]},\n",
      "                                                                                                                                                                                                                                                                                                                                                               'A']}]}]},\n",
      "                                                                                                                                                                                                                                              {'intercolumnardistance <= -0.0054905': [{'lowermargin <= 0.272969': ['A',\n",
      "                                                                                                                                                                                                                                                                                                                    {'lowermargin <= 0.39033': [{'uppermargin <= -0.25198349999999997': ['F',\n",
      "                                                                                                                                                                                                                                                                                                                                                                                         {'intercolumnardistance <= -0.042522000000000004': ['F',\n",
      "                                                                                                                                                                                                                                                                                                                                                                                                                                             'X']}]},\n",
      "                                                                                                                                                                                                                                                                                                                                                'A']}]},\n",
      "                                                                                                                                                                                                                                                                                       {'exploitation <= 0.356681': [{'intercolumnardistance <= 0.2352145': [{'lowermargin <= 0.347653': ['A',\n",
      "                                                                                                                                                                                                                                                                                                                                                                                          {'lowermargin <= 0.4276725': [{'intercolumnardistance <= 0.117948': ['A',\n",
      "                                                                                                                                                                                                                                                                                                                                                                                                                                                               'F']},\n",
      "                                                                                                                                                                                                                                                                                                                                                                                                                        'A']}]},\n",
      "                                                                                                                                                                                                                                                                                                                                                             'F']},\n",
      "                                                                                                                                                                                                                                                                                                                     {'lowermargin <= 0.39210849999999997': [{'exploitation <= 0.39609700000000003': ['F',\n",
      "                                                                                                                                                                                                                                                                                                                                                                                                      {'rownumber <= -1.168333': [{'uppermargin <= -0.1342155': ['A',\n",
      "                                                                                                                                                                                                                                                                                                                                                                                                                                                                 'F']},\n",
      "                                                                                                                                                                                                                                                                                                                                                                                                                                  'A']}]},\n",
      "                                                                                                                                                                                                                                                                                                                                                             {'exploitation <= 1.0149835': [{'intercolumnardistance <= 0.148808': [{'uppermargin <= -0.255909': ['F',\n",
      "                                                                                                                                                                                                                                                                                                                                                                                                                                                                 'A']},\n",
      "                                                                                                                                                                                                                                                                                                                                                                                                                                   'A']},\n",
      "                                                                                                                                                                                                                                                                                                                                                                                            'A']}]}]}]}]},\n",
      "                                                                                                                                                                                                               {'uppermargin <= -0.2362805': ['D',\n",
      "                                                                                                                                                                                                                                              'E']}]}]}]},\n",
      "                                                                                                 {'lowermargin <= 0.1484945': [{'uppermargin <= 0.168055': [{'uppermargin <= -0.020373500000000003': ['F',\n",
      "                                                                                                                                                                                                      {'ratio <= -0.2453455': [{'peaknumber <= 0.9527559999999999': [{'rownumber <= -1.213022': ['F',\n",
      "                                                                                                                                                                                                                                                                                                 'A']},\n",
      "                                                                                                                                                                                                                                                                     'E']},\n",
      "                                                                                                                                                                                                                               'A']}]},\n",
      "                                                                                                                                                            {'peaknumber <= 0.20440049999999998': [{'uppermargin <= 0.5841675': [{'uppermargin <= 0.1994595': [{'lowermargin <= -0.050664': ['A',\n",
      "                                                                                                                                                                                                                                                                                             {'exploitation <= -1.246219': ['A',\n",
      "                                                                                                                                                                                                                                                                                                                            'F']}]},\n",
      "                                                                                                                                                                                                                                                               {'uppermargin <= 0.3172275': [{'rownumber <= 0.217029': [{'rownumber <= -0.45330750000000003': [{'intercolumnardistance <= 0.0932605': ['A',\n",
      "                                                                                                                                                                                                                                                                                                                                                                                                       'F']},\n",
      "                                                                                                                                                                                                                                                                                                                                                               'F']},\n",
      "                                                                                                                                                                                                                                                                                                                        {'intercolumnardistance <= -0.08572550000000001': [{'intercolumnardistance <= -0.110413': ['A',\n",
      "                                                                                                                                                                                                                                                                                                                                                                                                                   'F']},\n",
      "                                                                                                                                                                                                                                                                                                                                                                           {'peaknumber <= 0.14203749999999998': ['A',\n",
      "                                                                                                                                                                                                                                                                                                                                                                                                                  {'uppermargin <= 0.2190875': ['G',\n",
      "                                                                                                                                                                                                                                                                                                                                                                                                                                                'A']}]}]}]},\n",
      "                                                                                                                                                                                                                                                                                             {'lowermargin <= 0.141382': [{'exploitation <= -0.290372': [{'lowermargin <= -1.4838939999999998': ['A',\n",
      "                                                                                                                                                                                                                                                                                                                                                                                                 {'lowermargin <= -0.0026524999999999995': ['F',\n",
      "                                                                                                                                                                                                                                                                                                                                                                                                                                            'G']}]},\n",
      "                                                                                                                                                                                                                                                                                                                                                         {'uppermargin <= 0.4703255': [{'uppermargin <= 0.44284650000000003': [{'interlinearspacing <= 0.0503': ['F',\n",
      "                                                                                                                                                                                                                                                                                                                                                                                                                                                                 'A']},\n",
      "                                                                                                                                                                                                                                                                                                                                                                                                                               'F']},\n",
      "                                                                                                                                                                                                                                                                                                                                                                                       'A']}]},\n",
      "                                                                                                                                                                                                                                                                                                                          'G']}]}]},\n",
      "                                                                                                                                                                                                                                 {'uppermargin <= 0.670531': [{'uppermargin <= 0.592019': ['F',\n",
      "                                                                                                                                                                                                                                                                                           'A']},\n",
      "                                                                                                                                                                                                                                                              {'uppermargin <= 11.155785999999999': ['F',\n",
      "                                                                                                                                                                                                                                                                                                     'A']}]}]},\n",
      "                                                                                                                                                                                                   {'intercolumnardistance <= -0.104241': [{'intercolumnardistance <= -0.135101': ['F',\n",
      "                                                                                                                                                                                                                                                                                   {'uppermargin <= 0.3643345': ['H',\n",
      "                                                                                                                                                                                                                                                                                                                 {'uppermargin <= 6.6138765': ['G',\n",
      "                                                                                                                                                                                                                                                                                                                                               'B']}]}]},\n",
      "                                                                                                                                                                                                                                           {'uppermargin <= 0.2112365': ['F',\n",
      "                                                                                                                                                                                                                                                                         {'uppermargin <= 0.4114415': [{'intercolumnardistance <= 0.136464': [{'intercolumnardistance <= 0.056229': [{'uppermargin <= 0.293674': ['F',\n",
      "                                                                                                                                                                                                                                                                                                                                                                                                                  {'lowermargin <= 0.048915499999999994': ['A',\n",
      "                                                                                                                                                                                                                                                                                                                                                                                                                                                           'G']}]},\n",
      "                                                                                                                                                                                                                                                                                                                                                                                     'G']},\n",
      "                                                                                                                                                                                                                                                                                                                                              'A']},\n",
      "                                                                                                                                                                                                                                                                                                       {'modularratio <= -0.2041715': [{'rownumber <= -0.140484': ['A',\n",
      "                                                                                                                                                                                                                                                                                                                                                                   {'exploitation <= -0.0231275': ['G',\n",
      "                                                                                                                                                                                                                                                                                                                                                                                                   {'lowermargin <= -0.0026520000000000007': ['G',\n",
      "                                                                                                                                                                                                                                                                                                                                                                                                                                              'F']}]}]},\n",
      "                                                                                                                                                                                                                                                                                                                                       {'intercolumnardistance <= 0.087088': [{'uppermargin <= 0.4821025': ['A',\n",
      "                                                                                                                                                                                                                                                                                                                                                                                                            'G']},\n",
      "                                                                                                                                                                                                                                                                                                                                                                              'A']}]}]}]}]}]}]},\n",
      "                                                                                                                               {'intercolumnardistance <= -0.08572550000000001': [{'intercolumnardistance <= -0.110413': [{'uppermargin <= -0.0007455000000000005': ['F',\n",
      "                                                                                                                                                                                                                                                                     {'uppermargin <= 0.13665': [{'intercolumnardistance <= -0.1536165': ['A',\n",
      "                                                                                                                                                                                                                                                                                                                                          'H']},\n",
      "                                                                                                                                                                                                                                                                                                 {'exploitation <= -0.3353525': ['D',\n",
      "                                                                                                                                                                                                                                                                                                                                 {'uppermargin <= 0.2269385': ['A',\n",
      "                                                                                                                                                                                                                                                                                                                                                               'E']}]}]}]},\n",
      "                                                                                                                                                                                                                          {'lowermargin <= 0.3227585': ['H',\n",
      "                                                                                                                                                                                                                                                        'W']}]},\n",
      "                                                                                                                                                                                  {'lowermargin <= 0.237405': [{'uppermargin <= 0.281897': [{'uppermargin <= 0.120948': [{'lowermargin <= 0.21073150000000002': [{'intercolumnardistance <= 0.11177600000000001': ['F',\n",
      "                                                                                                                                                                                                                                                                                                                                                                   {'uppermargin <= -0.004671': ['A',\n",
      "                                                                                                                                                                                                                                                                                                                                                                                                 'F']}]},\n",
      "                                                                                                                                                                                                                                                                                                                 'A']},\n",
      "                                                                                                                                                                                                                                                                         {'intercolumnardistance <= 0.0624005': [{'intercolumnardistance <= 0.0006815000000000015': ['A',\n",
      "                                                                                                                                                                                                                                                                                                                                                                     'F']},\n",
      "                                                                                                                                                                                                                                                                                                                 {'exploitation <= -0.771406': ['H',\n",
      "                                                                                                                                                                                                                                                                                                                                                'A']}]}]},\n",
      "                                                                                                                                                                                                                                            {'intercolumnardistance <= 0.35248100000000004': [{'lowermargin <= 0.19650600000000001': ['A',\n",
      "                                                                                                                                                                                                                                                                                                                                      {'intercolumnardistance <= 0.24755850000000001': ['G',\n",
      "                                                                                                                                                                                                                                                                                                                                                                                        'A']}]},\n",
      "                                                                                                                                                                                                                                                                                              {'intercolumnardistance <= 0.3956845': ['H',\n",
      "                                                                                                                                                                                                                                                                                                                                      'F']}]}]},\n",
      "                                                                                                                                                                                                               {'intercolumnardistance <= 0.0006814999999999998': [{'lowermargin <= 0.29964199999999996': [{'exploitation <= 0.105758': [{'uppermargin <= 0.4506975': ['E',\n",
      "                                                                                                                                                                                                                                                                                                                                                                       'A']},\n",
      "                                                                                                                                                                                                                                                                                                                                         'A']},\n",
      "                                                                                                                                                                                                                                                                                                           {'rownumber <= 0.1276505': ['E',\n",
      "                                                                                                                                                                                                                                                                                                                                       {'uppermargin <= 0.207311': ['X',\n",
      "                                                                                                                                                                                                                                                                                                                                                                    'H']}]}]},\n",
      "                                                                                                                                                                                                                                                                   {'lowermargin <= 0.4027775': [{'peaknumber <= 0.2667635': [{'intercolumnardistance <= 0.037712999999999997': [{'uppermargin <= 0.4978045': [{'exploitation <= -0.16820000000000002': ['H',\n",
      "                                                                                                                                                                                                                                                                                                                                                                                                                                                         'F']},\n",
      "                                                                                                                                                                                                                                                                                                                                                                                                               'A']},\n",
      "                                                                                                                                                                                                                                                                                                                                                                                 {'intercolumnardistance <= 0.36482499999999995': [{'intercolumnardistance <= 0.087088': [{'intercolumnardistance <= 0.062401': ['A',\n",
      "                                                                                                                                                                                                                                                                                                                                                                                                                                                                                                                 'H']},\n",
      "                                                                                                                                                                                                                                                                                                                                                                                                                                                                          'A']},\n",
      "                                                                                                                                                                                                                                                                                                                                                                                                                                   {'rownumber <= -1.7939795': ['A',\n",
      "                                                                                                                                                                                                                                                                                                                                                                                                                                                                'H']}]}]},\n",
      "                                                                                                                                                                                                                                                                                                                              {'rownumber <= -0.542686': ['A',\n",
      "                                                                                                                                                                                                                                                                                                                                                          {'ratio <= 0.01994': [{'uppermargin <= 0.18375750000000002': ['H',\n",
      "                                                                                                                                                                                                                                                                                                                                                                                                                        {'modularratio <= -0.8062819999999999': ['H',\n",
      "                                                                                                                                                                                                                                                                                                                                                                                                                                                                 'G']}]},\n",
      "                                                                                                                                                                                                                                                                                                                                                                                'A']}]}]},\n",
      "                                                                                                                                                                                                                                                                                                 {'lowermargin <= 0.49702199999999996': [{'intercolumnardistance <= 0.037712999999999997': ['X',\n",
      "                                                                                                                                                                                                                                                                                                                                                                                            'A']},\n",
      "                                                                                                                                                                                                                                                                                                                                         {'interlinearspacing <= -1.4408415': ['A',\n",
      "                                                                                                                                                                                                                                                                                                                                                                               'E']}]}]}]}]}]}]}]}]},\n",
      "                           {'rownumber <= 0.842676': [{'lowermargin <= 0.1111525': [{'peaknumber <= 0.3291265': [{'intercolumnardistance <= 0.204355': [{'weight <= -1.070275': [{'intercolumnardistance <= -0.29557100000000003': ['A',\n",
      "                                                                                                                                                                                                                                    'E']},\n",
      "                                                                                                                                                                                 {'modularratio <= -2.7579494999999996': ['A',\n",
      "                                                                                                                                                                                                                          'F']}]},\n",
      "                                                                                                                                                        'A']},\n",
      "                                                                                                                 'E']},\n",
      "                                                                                    {'intercolumnardistance <= 0.537639': [{'peaknumber <= 1.7322925': [{'uppermargin <= -0.34227149999999995': ['X',\n",
      "                                                                                                                                                                                                 {'rownumber <= 0.395785': ['A',\n",
      "                                                                                                                                                                                                                            'Y']}]},\n"
     ]
    },
    {
     "output_type": "stream",
     "name": "stdout",
     "text": [
      "                                                                                                                                                        {'ratio <= 0.1435595': ['Y',\n",
      "                                                                                                                                                                                'X']}]},\n",
      "                                                                                                                           'I']}]},\n",
      "                                                      'I']}]}\n"
     ]
    }
   ],
   "metadata": {}
  },
  {
   "cell_type": "markdown",
   "source": [
    "#  predicting the test_data"
   ],
   "metadata": {}
  },
  {
   "cell_type": "code",
   "execution_count": 17,
   "source": [
    "def classify_example(example, tree):\n",
    "    question = list(tree.keys())[0]\n",
    "    feature_name, comparison_operator, value = question.split(\" \")\n",
    "\n",
    "   \n",
    "    if comparison_operator == \"<=\":  # feature is continuous\n",
    "        if example[feature_name] <= float(value):\n",
    "            answer = tree[question][0]\n",
    "        else:\n",
    "            answer = tree[question][1]\n",
    "    \n",
    "    # feature is categorical then exicute this part \n",
    "    else:\n",
    "        if str(example[feature_name]) == value:\n",
    "            answer = tree[question][0]\n",
    "        else:\n",
    "            answer = tree[question][1]\n",
    "\n",
    "    # base case\n",
    "    if not isinstance(answer, dict):\n",
    "        return answer\n",
    "    \n",
    "    # recursive part of tree\n",
    "    else:\n",
    "        residual_tree = answer\n",
    "        return classify_example(example, residual_tree)"
   ],
   "outputs": [],
   "metadata": {}
  },
  {
   "cell_type": "code",
   "execution_count": 18,
   "source": [
    "example=test_df.iloc[5]\n",
    "example"
   ],
   "outputs": [
    {
     "output_type": "execute_result",
     "data": {
      "text/plain": [
       "intercolumnardistance   -0.079554\n",
       "uppermargin              0.187683\n",
       "lowermargin             -0.070224\n",
       "exploitation             0.211236\n",
       "rownumber                0.261718\n",
       "modularratio              1.35301\n",
       "interlinearspacing      -0.044076\n",
       "weight                  -0.797392\n",
       "peaknumber               0.095265\n",
       "ratio                    1.405159\n",
       "lable                           A\n",
       "Name: 1658, dtype: object"
      ]
     },
     "metadata": {},
     "execution_count": 18
    }
   ],
   "metadata": {}
  },
  {
   "cell_type": "code",
   "execution_count": 19,
   "source": [
    "sample_data=test_df.iloc[5]\n",
    "test_data = pd.Series(sample_data)\n",
    "prediction = classify_example(test_data,information_gain_tree)\n",
    "prediction"
   ],
   "outputs": [
    {
     "output_type": "execute_result",
     "data": {
      "text/plain": [
       "'A'"
      ]
     },
     "metadata": {},
     "execution_count": 19
    }
   ],
   "metadata": {}
  },
  {
   "cell_type": "code",
   "execution_count": 20,
   "source": [
    "def calculate_accuracy(df, tree):#accuracy function\n",
    "\n",
    "    df[\"classification\"] = df.apply(classify_example, axis=1, args=(tree,))\n",
    "    df[\"classification_correct\"] = df[\"classification\"] == df[\"lable\"]\n",
    "    \n",
    "    accuracy = df[\"classification_correct\"].mean()\n",
    "    \n",
    "    return accuracy"
   ],
   "outputs": [],
   "metadata": {}
  },
  {
   "cell_type": "markdown",
   "source": [
    "# Final accuracy calculation"
   ],
   "metadata": {}
  },
  {
   "cell_type": "code",
   "execution_count": 21,
   "source": [
    "#tree using information gain measure  \n",
    "\n",
    "test_df, train_df = train_test_split(df, 0.2)\n",
    "tree = decision_tree_algorithm(train_df, max_depth=10)\n",
    "accuracy = calculate_accuracy(test_df, tree)\n",
    "accuracy"
   ],
   "outputs": [
    {
     "output_type": "execute_result",
     "data": {
      "text/plain": [
       "0.5788834951456311"
      ]
     },
     "metadata": {},
     "execution_count": 21
    }
   ],
   "metadata": {}
  },
  {
   "cell_type": "markdown",
   "source": [
    "# QUEATION_2"
   ],
   "metadata": {}
  },
  {
   "cell_type": "code",
   "execution_count": 22,
   "source": [
    "#calculating the accuracy of 10 different random samples\n",
    "accList=list()\n",
    "bestTree={}\n",
    "a=-math.inf\n",
    "for i in range(10):\n",
    "    testData,trainData=train_test_split(df,test_size=0.2)\n",
    "    tree = decision_tree_algorithm(trainData,10)\n",
    "    acc= calculate_accuracy(testData,tree)\n",
    "    if(a<acc):\n",
    "        a=acc\n",
    "        bestTree=tree\n",
    "    accList.append(acc)\n",
    "    \n"
   ],
   "outputs": [],
   "metadata": {}
  },
  {
   "cell_type": "code",
   "execution_count": 23,
   "source": [
    "print(\"Accuracy of tree on ten different Random Data using information gain as measure-\\n\")\n",
    "for i in accList:\n",
    "    print(i)\n",
    "    print()\n",
    "print(\"Best Accurracy-\",a)"
   ],
   "outputs": [
    {
     "output_type": "stream",
     "name": "stdout",
     "text": [
      "Accuracy of tree on ten different Random Data using information gain as measure-\n",
      "\n",
      "0.6043689320388349\n",
      "\n",
      "0.6110436893203883\n",
      "\n",
      "0.6322815533980582\n",
      "\n",
      "0.6547330097087378\n",
      "\n",
      "0.6365291262135923\n",
      "\n",
      "0.6110436893203883\n",
      "\n",
      "0.6140776699029126\n",
      "\n",
      "0.5807038834951457\n",
      "\n",
      "0.5849514563106796\n",
      "\n",
      "0.6116504854368932\n",
      "\n",
      "Best Accurracy- 0.6547330097087378\n"
     ]
    }
   ],
   "metadata": {}
  },
  {
   "cell_type": "code",
   "execution_count": 24,
   "source": [
    "#best_tree for acording to the accuracy of data \n",
    "pprint(bestTree)"
   ],
   "outputs": [
    {
     "output_type": "stream",
     "name": "stdout",
     "text": [
      "{'rownumber <= 0.306407': [{'intercolumnardistance <= -0.135101': [{'intercolumnardistance <= -0.560964': [{'intercolumnardistance <= -1.4558925': ['A',\n",
      "                                                                                                                                                    'Y']},\n",
      "                                                                                                           {'exploitation <= 1.057264': [{'lowermargin <= 0.310311': [{'exploitation <= -0.10292899999999999': [{'intercolumnardistance <= -0.369634': ['C',\n",
      "                                                                                                                                                                                                                                                        'E']},\n",
      "                                                                                                                                                                                                                {'intercolumnardistance <= -0.3202585': ['E',\n",
      "                                                                                                                                                                                                                                                         {'intercolumnardistance <= -0.2400235': [{'uppermargin <= 0.3172275': ['A',\n",
      "                                                                                                                                                                                                                                                                                                                                'F']},\n",
      "                                                                                                                                                                                                                                                                                                  {'exploitation <= 0.7144245': ['F',\n",
      "                                                                                                                                                                                                                                                                                                                                 'E']}]}]}]},\n",
      "                                                                                                                                                                      {'rownumber <= 0.217029': [{'uppermargin <= 0.407516': [{'exploitation <= -0.0479525': [{'uppermargin <= -0.271611': ['A',\n",
      "                                                                                                                                                                                                                                                                                            'D']},\n",
      "                                                                                                                                                                                                                                                              'D']},\n",
      "                                                                                                                                                                                                                              'E']},\n",
      "                                                                                                                                                                                                 {'intercolumnardistance <= -0.1659605': ['E',\n",
      "                                                                                                                                                                                                                                          'A']}]}]},\n",
      "                                                                                                                                         {'intercolumnardistance <= -0.1659605': [{'uppermargin <= -0.21665299999999998': ['A',\n",
      "                                                                                                                                                                                                                           'X']},\n",
      "                                                                                                                                                                                  'E']}]}]},\n",
      "                                                                   {'uppermargin <= -0.0282245': [{'lowermargin <= 0.12359999999999999': [{'intercolumnardistance <= -0.048694': [{'intercolumnardistance <= -0.0795535': ['A',\n",
      "                                                                                                                                                                                                                           'F']},\n",
      "                                                                                                                                                                                  {'modularratio <= -0.7024695': ['C',\n",
      "                                                                                                                                                                                                                  {'peaknumber <= 0.6097595': ['A',\n",
      "                                                                                                                                                                                                                                               'E']}]}]},\n",
      "                                                                                                                                          {'exploitation <= -0.1034365': [{'intercolumnardistance <= -0.0795535': ['E',\n",
      "                                                                                                                                                                                                                   {'intercolumnardistance <= 0.09943199999999999': [{'uppermargin <= -0.507147': ['A',\n",
      "                                                                                                                                                                                                                                                                                                   'F']},\n",
      "                                                                                                                                                                                                                                                                     {'lowermargin <= 0.3547665': [{'intercolumnardistance <= 0.16732350000000001': [{'uppermargin <= -0.30301599999999995': ['F',\n",
      "                                                                                                                                                                                                                                                                                                                                                                                              'A']},\n",
      "                                                                                                                                                                                                                                                                                                                                                     {'intercolumnardistance <= 0.272246': ['F',\n",
      "                                                                                                                                                                                                                                                                                                                                                                                            'A']}]},\n",
      "                                                                                                                                                                                                                                                                                                   'A']}]}]},\n",
      "                                                                                                                                                                          {'intercolumnardistance <= -0.098069': ['F',\n",
      "                                                                                                                                                                                                                  {'lowermargin <= 0.5770415': [{'rownumber <= 0.1276505': ['A',\n",
      "                                                                                                                                                                                                                                                                            {'lowermargin <= 0.290751': [{'exploitation <= 0.6821695': ['F',\n",
      "                                                                                                                                                                                                                                                                                                                                        'A']},\n",
      "                                                                                                                                                                                                                                                                                                         'A']}]},\n",
      "                                                                                                                                                                                                                                                'Y']}]}]}]},\n",
      "                                                                                                  {'lowermargin <= 0.1484945': [{'uppermargin <= 0.3918135': [{'lowermargin <= 0.07736699999999999': ['A',\n",
      "                                                                                                                                                                                                      {'exploitation <= 0.082619': ['F',\n",
      "                                                                                                                                                                                                                                    {'uppermargin <= 0.0188825': ['F',\n",
      "                                                                                                                                                                                                                                                                  'A']}]}]},\n",
      "                                                                                                                                                              {'uppermargin <= 0.5488375': [{'intercolumnardistance <= 0.3524815': ['G',\n",
      "                                                                                                                                                                                                                                    'F']},\n",
      "                                                                                                                                                                                            {'peaknumber <= 0.173219': [{'exploitation <= -0.23736400000000002': ['F',\n",
      "                                                                                                                                                                                                                                                                  {'uppermargin <= 0.670531': ['A',\n",
      "                                                                                                                                                                                                                                                                                               'F']}]},\n",
      "                                                                                                                                                                                                                        'A']}]}]},\n",
      "                                                                                                                                {'intercolumnardistance <= -0.048694': [{'uppermargin <= 0.3172275': [{'uppermargin <= 0.10132': ['X',\n",
      "                                                                                                                                                                                                                                  'E']},\n",
      "                                                                                                                                                                                                      'H']},\n",
      "                                                                                                                                                                        {'peaknumber <= 0.2199915': ['A',\n",
      "                                                                                                                                                                                                     {'interlinearspacing <= 0.35230300000000003': ['A',\n",
      "                                                                                                                                                                                                                                                    'H']}]}]}]}]}]},\n",
      "                           {'lowermargin <= 0.32098': [{'rownumber <= 0.44047400000000003': [{'intercolumnardistance <= -0.2091635': ['X',\n",
      "                                                                                                                                      'F']},\n",
      "                                                                                             'I']},\n",
      "                                                       {'uppermargin <= -0.34227149999999995': ['X',\n",
      "                                                                                                {'peaknumber <= 2.2779685': ['Y',\n",
      "                                                                                                                             'X']}]}]}]}\n"
     ]
    }
   ],
   "metadata": {}
  },
  {
   "cell_type": "markdown",
   "source": [
    "# QUESTION_3"
   ],
   "metadata": {}
  },
  {
   "cell_type": "code",
   "execution_count": 25,
   "source": [
    "#finding accuracy on diffrent depths of the tree\n",
    "def get_accuracy(new_test_data):\n",
    "    test_accuracies = []\n",
    "    depth = [3,4,5,7,8,9,12,15,20,25] \n",
    "    for i in range( len(depth) ):\n",
    "        tree = decision_tree_algorithm(train_df, max_depth=depth[i])\n",
    "        accuracy = calculate_accuracy(new_test_data, tree)\n",
    "        test_accuracies.append(accuracy)\n",
    "    return test_accuracies"
   ],
   "outputs": [],
   "metadata": {}
  },
  {
   "cell_type": "code",
   "execution_count": 26,
   "source": [
    "test_accuracies=get_accuracy(test_df)"
   ],
   "outputs": [],
   "metadata": {
    "scrolled": true
   }
  },
  {
   "cell_type": "code",
   "execution_count": 27,
   "source": [
    "X_N = [3,4,5,7,8,9,12,15,20,25]\n",
    "plt.plot(X_N,test_accuracies, 'b', label='Test Accuracy')\n",
    "plt.title('Test_data _Accuracy vs Depth_of_tree ')\n",
    "plt.ylabel('Accuracies')\n",
    "plt.xlabel('Depth of Tree')\n",
    "plt.legend()\n",
    "plt.grid()\n",
    "plt.xticks(np.arange(0,45, step=3))\n",
    "plt.show()"
   ],
   "outputs": [
    {
     "output_type": "display_data",
     "data": {
      "image/png": "[encoded data removed]",
      "text/plain": [
       "<Figure size 432x288 with 1 Axes>"
      ]
     },
     "metadata": {
      "needs_background": "light"
     }
    }
   ],
   "metadata": {}
  },
  {
   "cell_type": "markdown",
   "source": [
    "# QUESTION_5\n"
   ],
   "metadata": {}
  },
  {
   "cell_type": "code",
   "execution_count": 28,
   "source": [
    "# best tree is formed at depth of 15 \n",
    "best_tree= decision_tree_algorithm(train_df,15)"
   ],
   "outputs": [],
   "metadata": {}
  },
  {
   "cell_type": "code",
   "execution_count": 29,
   "source": [
    "pprint(best_tree)"
   ],
   "outputs": [
    {
     "output_type": "stream",
     "name": "stdout",
     "text": [
      "{'rownumber <= 0.395785': [{'intercolumnardistance <= -0.19682': [{'peaknumber <= 0.40708049999999996': [{'intercolumnardistance <= -2.548323': [{'intercolumnardistance <= -2.8137160000000003': [{'uppermargin <= 0.678382': [{'exploitation <= 1.0325280000000001': ['A',\n",
      "                                                                                                                                                                                                                                                                        'X']},\n",
      "                                                                                                                                                                                                                                'Y']},\n",
      "                                                                                                                                                                                                   'H']},\n",
      "                                                                                                                                                 {'weight <= 0.076059': [{'modularratio <= 2.1627445': [{'weight <= -1.0395405': ['E',\n",
      "                                                                                                                                                                                                                                  'A']},\n",
      "                                                                                                                                                                                                        'D']},\n",
      "                                                                                                                                                                         {'lowermargin <= 0.513026': [{'uppermargin <= -0.7230545': ['D',\n",
      "                                                                                                                                                                                                                                     'F']},\n",
      "                                                                                                                                                                                                      'C']}]}]},\n",
      "                                                                                                         {'exploitation <= 1.055802': [{'intercolumnardistance <= -0.344946': [{'peaknumber <= 0.82803': [{'uppermargin <= 0.17198049999999998': ['C',\n",
      "                                                                                                                                                                                                                                                  'G']},\n",
      "                                                                                                                                                                                                          'E']},\n",
      "                                                                                                                                                                               {'peaknumber <= 1.342524': ['E',\n",
      "                                                                                                                                                                                                           'X']}]},\n",
      "                                                                                                                                       {'intercolumnardistance <= -0.5239320000000001': [{'intercolumnardistance <= -0.6535425': ['E',\n",
      "                                                                                                                                                                                                                                  'Y']},\n",
      "                                                                                                                                                                                         {'uppermargin <= -0.369751': ['A',\n",
      "                                                                                                                                                                                                                       {'uppermargin <= 0.301525': ['X',\n",
      "                                                                                                                                                                                                                                                    'E']}]}]}]}]},\n",
      "                                                                  {'peaknumber <= 0.422671': [{'uppermargin <= -0.036075499999999996': [{'intercolumnardistance <= -0.172132': [{'intercolumnardistance <= -0.184476': ['D',\n",
      "                                                                                                                                                                                                                        'E']},\n",
      "                                                                                                                                                                                {'rownumber <= 0.217029': [{'modularratio <= -0.764757': ['A',\n",
      "                                                                                                                                                                                                                                          {'lowermargin <= 0.536143': ['A',\n",
      "                                                                                                                                                                                                                                                                       'D']}]},\n",
      "                                                                                                                                                                                                           {'lowermargin <= 0.194728': [{'rownumber <= 0.306407': [{'modularratio <= -0.6401825': ['F',\n",
      "                                                                                                                                                                                                                                                                                                   'A']},\n",
      "                                                                                                                                                                                                                                                                   'F']},\n",
      "                                                                                                                                                                                                                                        {'exploitation <= 0.256381': [{'lowermargin <= 0.47568350000000004': ['F',\n",
      "                                                                                                                                                                                                                                                                                                              'A']},\n",
      "                                                                                                                                                                                                                                                                      {'lowermargin <= 0.326315': [{'uppermargin <= -0.381528': ['A',\n",
      "                                                                                                                                                                                                                                                                                                                                 'F']},\n",
      "                                                                                                                                                                                                                                                                                                   'A']}]}]}]}]},\n",
      "                                                                                                                                        {'modularratio <= 0.5017505': [{'lowermargin <= 0.1876155': [{'uppermargin <= 0.148427': ['A',\n",
      "                                                                                                                                                                                                                                  {'uppermargin <= 0.281897': [{'interlinearspacing <= 0.08805': ['A',\n",
      "                                                                                                                                                                                                                                                                                                  'F']},\n",
      "                                                                                                                                                                                                                                                               {'lowermargin <= 0.0009039999999999994': [{'exploitation <= 0.0500205': ['F',\n",
      "                                                                                                                                                                                                                                                                                                                                        'A']},\n",
      "                                                                                                                                                                                                                                                                                                         {'interlinearspacing <= 0.446679': ['G',\n",
      "                                                                                                                                                                                                                                                                                                                                             'A']}]}]}]},\n",
      "                                                                                                                                                                                                     {'uppermargin <= 0.128799': [{'lowermargin <= 0.344097': [{'intercolumnardistance <= 0.1611515': [{'intercolumnardistance <= 0.04388499999999999': ['F',\n",
      "                                                                                                                                                                                                                                                                                                                                                         'A']},\n",
      "                                                                                                                                                                                                                                                                                                       'F']},\n",
      "                                                                                                                                                                                                                                                               {'intercolumnardistance <= 0.050057000000000004': ['E',\n",
      "                                                                                                                                                                                                                                                                                                                  'A']}]},\n",
      "                                                                                                                                                                                                                                  'A']}]},\n",
      "                                                                                                                                                                       {'intercolumnardistance <= -0.024006': [{'exploitation <= 0.811801': ['A',\n",
      "                                                                                                                                                                                                                                             'F']},\n",
      "                                                                                                                                                                                                               {'weight <= -1.0045735': ['G',\n",
      "                                                                                                                                                                                                                                         'A']}]}]}]},\n",
      "                                                                                              {'intercolumnardistance <= -0.12275699999999999': ['F',\n",
      "                                                                                                                                                 {'uppermargin <= 0.2033855': [{'intercolumnardistance <= -0.03635': [{'intercolumnardistance <= -0.061037999999999995': ['X',\n",
      "                                                                                                                                                                                                                                                                          'E']},\n",
      "                                                                                                                                                                                                                      {'uppermargin <= -0.0478525': ['A',\n",
      "                                                                                                                                                                                                                                                     {'lowermargin <= 0.1644985': ['A',\n",
      "                                                                                                                                                                                                                                                                                   {'exploitation <= 0.4171635': ['H',\n",
      "                                                                                                                                                                                                                                                                                                                  'A']}]}]}]},\n",
      "                                                                                                                                                                               {'uppermargin <= 0.415367': [{'intercolumnardistance <= -0.0795535': ['H',\n",
      "                                                                                                                                                                                                                                                     'A']},\n",
      "                                                                                                                                                                                                            {'uppermargin <= 0.7686705': ['G',\n",
      "                                                                                                                                                                                                                                          'A']}]}]}]}]}]},\n",
      "                           {'intercolumnardistance <= 0.09943250000000001': [{'intercolumnardistance <= -0.258539': ['X',\n",
      "                                                                                                                     'Y']},\n",
      "                                                                             {'intercolumnardistance <= 0.3401375': ['Y',\n",
      "                                                                                                                     'I']}]}]}\n"
     ]
    }
   ],
   "metadata": {}
  },
  {
   "cell_type": "code",
   "execution_count": null,
   "source": [],
   "outputs": [],
   "metadata": {}
  }
 ],
 "metadata": {
  "interpreter": {
   "hash": "6f1cdd5a30992c4227fa674785c0e2e9de447585b7531679e792bd7fe8f57e99"
  },
  "kernelspec": {
   "display_name": "Python 3 (ipykernel)",
   "language": "python",
   "name": "python3"
  },
  "language_info": {
   "codemirror_mode": {
    "name": "ipython",
    "version": 3
   },
   "file_extension": ".py",
   "mimetype": "text/x-python",
   "name": "python",
   "nbconvert_exporter": "python",
   "pygments_lexer": "ipython3",
   "version": "3.9.6"
  }
 },
 "nbformat": 4,
 "nbformat_minor": 5
}