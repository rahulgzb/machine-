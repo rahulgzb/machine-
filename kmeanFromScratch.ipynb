{
 "cells": [
  {
   "cell_type": "markdown",
   "id": "7edb47b7",
   "metadata": {},
   "source": [
    "# Implementation of K-Mean Algorithm From scratch and measuring its performance using NMI and Silhouette Index\n"
   ]
  },
  {
   "cell_type": "code",
   "execution_count": 1,
   "id": "ae9cc3ec",
   "metadata": {},
   "outputs": [],
   "source": [
    "#importing basic modules for implementation of k-means\n",
    "import pandas as pd\n",
    "import numpy as np\n",
    "import math\n",
    "import plotly.graph_objects as go\n",
    "import matplotlib.pyplot as plt\n",
    "%matplotlib inline\n",
    "\n",
    "#importing modules of sklearn for measuring performance of K-mean\n",
    "from sklearn import metrics\n",
    "from sklearn.metrics import silhouette_score\n"
   ]
  },
  {
   "cell_type": "code",
   "execution_count": 2,
   "id": "115b133a",
   "metadata": {},
   "outputs": [],
   "source": [
    "#method that is used for calculating the eculidean distance between two data points\n",
    "def euclidean_distance(x1,x2):\n",
    "        res=np.sum((x1-x2)**2)\n",
    "        return math.sqrt(res)"
   ]
  },
  {
   "cell_type": "code",
   "execution_count": 3,
   "id": "bbc69f20",
   "metadata": {},
   "outputs": [],
   "source": [
    "#defining a class for kmeans\n",
    "class Kmeans:\n",
    "    #constructor of the class Kmeans\n",
    "    def __init__(self,K,max_iteration):\n",
    "        self.K=K\n",
    "        self.max_iteration=max_iteration\n",
    "        self.clusters=[[] for _ in range(self.K)]\n",
    "        self.centroids=[]  \n",
    "    \n",
    "    \n",
    "    \"\"\"\n",
    "    This method performs the following things--\n",
    "       1.Finds the total number of samples and total features from the Data Set X\n",
    "       2.Choose the K random indices from the samples.\n",
    "       3.After that we access the K random samples using these K Random indices.\n",
    "         These K random samples will be our initial Centroids.\n",
    "       4.We ran a loop to check the convergernce of the algorithm.\n",
    "         If it is converges then we break and return cluster labels assigned to data points.\n",
    "    \"\"\"  \n",
    "    def predict(self,X):\n",
    "        self.X=X\n",
    "        self.no_samples,self.no_features=X.shape\n",
    "        \n",
    "        random_K_indxs=np.random.choice(self.no_samples,self.K,replace=False)\n",
    "        \n",
    "        self.centroids=[self.X[i] for i in random_K_indxs]\n",
    "\n",
    "        \n",
    "        for _ in range(self.max_iteration):\n",
    "            self.clusters=self.createClusters(self.centroids)\n",
    "            oldCentroids=self.centroids\n",
    "            self.centroids=self.getCentroids(self.clusters)\n",
    "            \n",
    "            if self.isConverge(oldCentroids,self.centroids):\n",
    "                break\n",
    "            \n",
    "        labels=self.getClusterLabels(self.clusters)\n",
    "        return labels\n",
    "    \n",
    "    # method is used for finding cluster for each data points in X\n",
    "    def createClusters(self,centroids):\n",
    "        clusters=[[] for _ in range(self.K)]\n",
    "        for i,data in enumerate(self.X):\n",
    "            centroid_index=self.closestCentroid(data,centroids)\n",
    "            clusters[centroid_index].append(i)\n",
    "        \n",
    "        return clusters\n",
    "    \n",
    "    # method is used for finding the closer centroid for a particular given data\n",
    "    def closestCentroid(self,data,centroids):\n",
    "        d=[euclidean_distance(data,k) for k in centroids]\n",
    "        closeIndex=np.argmin(d)\n",
    "        return closeIndex\n",
    "    \n",
    "    \n",
    "    #when all data points assigned to diffrent clusters then we have to update the centroids points by taking mean \n",
    "    #this method is used for that purpose\n",
    "    \n",
    "    def getCentroids(self,clusters):\n",
    "        centroids=np.zeros((self.K,self.no_features))\n",
    "        \n",
    "        for clus_index,clus_data in enumerate(clusters):\n",
    "            clus_mean=np.mean(self.X[clus_data],axis=0)\n",
    "            centroids[clus_index]=clus_mean\n",
    "        \n",
    "        return centroids\n",
    "    \n",
    "    #this method returns the cluster labels assigned to diffrent datapoints and it returns a list\n",
    "    def getClusterLabels(self,clusters):\n",
    "        label=np.empty(self.no_samples)\n",
    "        for clus_index,clus_data in enumerate(clusters):\n",
    "            for k in clus_data:\n",
    "                label[k]=clus_index \n",
    "        return label\n",
    "    \n",
    "    #this method check whether old centroids gets updated or not\n",
    "    def isConverge(self,oldCentroids,centroids):\n",
    "        d=[euclidean_distance(oldCentroids[i],centroids[i]) for i in range(self.K)]\n",
    "        if sum(d)==0:\n",
    "            return True\n",
    "        else:\n",
    "            return False"
   ]
  },
  {
   "cell_type": "code",
   "execution_count": 6,
   "id": "704ca94e",
   "metadata": {},
   "outputs": [],
   "source": [
    "def main():\n",
    "    df = pd.read_csv(\"bupa.txt\") # read the data \n",
    "    trainData=df[[\"mcv\",\"alkphos\",\"sgpt\",\"sgot\",\"gammagt\",\"drinks\"]]# read the specified column values according to their name \n",
    "    labels_original=df[\"selector\"].tolist() # read the the last column value because it is our class label.\n",
    "    \n",
    "    X=trainData.to_numpy() #converting the train data into numpy Array\n",
    "    \n",
    "    k=Kmeans(2,100)# initializing the K- means with K no of clusters and max_number of iteration\n",
    "    labels_pred=k.predict(X) #call the predict method which will give the cluster labels\n",
    "    \n",
    "    trainData['clusture']=labels_pred\n",
    "    \n",
    "    #printing the datapoints along with their cluster\n",
    "    print(\"------Final Output of K-mean------\")\n",
    "    for i,cluster in enumerate(labels_pred):\n",
    "        print(\"data \",i+1,\"--> cluster \",int(cluster+1))\n",
    "        \n",
    "    #calculating clustering performance using NMI and silhoutte index    \n",
    "    print(\"----Clustering Performance----\")\n",
    "    label_prediction=labels_pred.tolist()#converting labels_pred to list\n",
    "    NMI_score=metrics.normalized_mutual_info_score(labels_original,label_prediction)\n",
    "    print(\"Using Ground Information->\",NMI_score)\n",
    "    silhouette_avg = silhouette_score(X, labels_pred)\n",
    "    print(\"Without using ground Information->\",silhouette_avg )\n",
    "\n",
    "    trainData['clusture']=labels_pred\n",
    "\n",
    "    #printing the datapoints along with their cluster\n",
    "    \n",
    "    # code for radar chart  to visualise the clusture points \n",
    "    # here we are taking the mean value of all the attributes present in the cluster\n",
    "    data=pd.DataFrame(trainData)\n",
    "    segments= data.pivot_table (index =['clusture'],values =['mcv','alkphos','sgpt','sgot','gammagt','drinks'],aggfunc ={'mcv':'mean','alkphos':'mean','sgpt':'mean','sgot':'mean','gammagt':'mean','drinks':'mean'})\n",
    "    segments.reset_index(inplace = True)\n",
    "    segments.set_index('clusture',inplace =True)\n",
    "    print(segments)\n",
    "    \n",
    "    # setting the value on radar chart \n",
    "    categories=segments.columns\n",
    "    values = segments.values\n",
    "    \n",
    "    import plotly.graph_objects as go\n",
    "    \n",
    "    fig = go.Figure()\n",
    "    fig.add_trace (go.Scatterpolar(\n",
    "       r=values[0],\n",
    "       theta= categories,\n",
    "       fill ='toself',\n",
    "       name ='cluster 1'\n",
    "    ))\n",
    "    \n",
    "    fig.add_trace (go.Scatterpolar(\n",
    "       r=values[1],\n",
    "       theta= categories,\n",
    "       fill ='toself',\n",
    "       name ='cluster 2'\n",
    "    ))\n",
    "    \n",
    "    fig.update_layout(\n",
    "     polar=dict(\n",
    "      radialaxis=dict(\n",
    "        visible=True\n",
    "      )),\n",
    "    title=\"visualisation of cluster according to there centroid\"\n",
    "    )\n",
    "    fig.show()\n",
    "   \n",
    "   "
   ]
  },
  {
   "cell_type": "code",
   "execution_count": 7,
   "id": "d5327ee4",
   "metadata": {},
   "outputs": [
    {
     "name": "stdout",
     "output_type": "stream",
     "text": [
      "------Final Output of K-mean------\n",
      "data  1 --> cluster  1\n",
      "data  2 --> cluster  1\n",
      "data  3 --> cluster  1\n",
      "data  4 --> cluster  1\n",
      "data  5 --> cluster  1\n",
      "data  6 --> cluster  1\n",
      "data  7 --> cluster  1\n",
      "data  8 --> cluster  1\n",
      "data  9 --> cluster  1\n",
      "data  10 --> cluster  1\n",
      "data  11 --> cluster  1\n",
      "data  12 --> cluster  1\n",
      "data  13 --> cluster  1\n",
      "data  14 --> cluster  1\n",
      "data  15 --> cluster  1\n",
      "data  16 --> cluster  1\n",
      "data  17 --> cluster  1\n",
      "data  18 --> cluster  1\n",
      "data  19 --> cluster  1\n",
      "data  20 --> cluster  1\n",
      "data  21 --> cluster  1\n",
      "data  22 --> cluster  1\n",
      "data  23 --> cluster  1\n",
      "data  24 --> cluster  1\n",
      "data  25 --> cluster  2\n",
      "data  26 --> cluster  1\n",
      "data  27 --> cluster  1\n",
      "data  28 --> cluster  1\n",
      "data  29 --> cluster  1\n",
      "data  30 --> cluster  1\n",
      "data  31 --> cluster  1\n",
      "data  32 --> cluster  1\n",
      "data  33 --> cluster  1\n",
      "data  34 --> cluster  1\n",
      "data  35 --> cluster  1\n",
      "data  36 --> cluster  2\n",
      "data  37 --> cluster  1\n",
      "data  38 --> cluster  1\n",
      "data  39 --> cluster  1\n",
      "data  40 --> cluster  1\n",
      "data  41 --> cluster  1\n",
      "data  42 --> cluster  1\n",
      "data  43 --> cluster  1\n",
      "data  44 --> cluster  1\n",
      "data  45 --> cluster  1\n",
      "data  46 --> cluster  1\n",
      "data  47 --> cluster  1\n",
      "data  48 --> cluster  1\n",
      "data  49 --> cluster  1\n",
      "data  50 --> cluster  1\n",
      "data  51 --> cluster  1\n",
      "data  52 --> cluster  1\n",
      "data  53 --> cluster  2\n",
      "data  54 --> cluster  1\n",
      "data  55 --> cluster  1\n",
      "data  56 --> cluster  1\n",
      "data  57 --> cluster  1\n",
      "data  58 --> cluster  1\n",
      "data  59 --> cluster  1\n",
      "data  60 --> cluster  1\n",
      "data  61 --> cluster  1\n",
      "data  62 --> cluster  1\n",
      "data  63 --> cluster  1\n",
      "data  64 --> cluster  1\n",
      "data  65 --> cluster  1\n",
      "data  66 --> cluster  1\n",
      "data  67 --> cluster  1\n",
      "data  68 --> cluster  1\n",
      "data  69 --> cluster  1\n",
      "data  70 --> cluster  1\n",
      "data  71 --> cluster  1\n",
      "data  72 --> cluster  1\n",
      "data  73 --> cluster  1\n",
      "data  74 --> cluster  1\n",
      "data  75 --> cluster  1\n",
      "data  76 --> cluster  1\n",
      "data  77 --> cluster  2\n",
      "data  78 --> cluster  1\n",
      "data  79 --> cluster  1\n",
      "data  80 --> cluster  1\n",
      "data  81 --> cluster  1\n",
      "data  82 --> cluster  1\n",
      "data  83 --> cluster  1\n",
      "data  84 --> cluster  1\n",
      "data  85 --> cluster  2\n",
      "data  86 --> cluster  1\n",
      "data  87 --> cluster  1\n",
      "data  88 --> cluster  1\n",
      "data  89 --> cluster  1\n",
      "data  90 --> cluster  1\n",
      "data  91 --> cluster  1\n",
      "data  92 --> cluster  1\n",
      "data  93 --> cluster  1\n",
      "data  94 --> cluster  1\n",
      "data  95 --> cluster  1\n",
      "data  96 --> cluster  1\n",
      "data  97 --> cluster  1\n",
      "data  98 --> cluster  2\n",
      "data  99 --> cluster  1\n",
      "data  100 --> cluster  1\n",
      "data  101 --> cluster  1\n",
      "data  102 --> cluster  1\n",
      "data  103 --> cluster  1\n",
      "data  104 --> cluster  1\n",
      "data  105 --> cluster  1\n",
      "data  106 --> cluster  1\n",
      "data  107 --> cluster  1\n",
      "data  108 --> cluster  1\n",
      "data  109 --> cluster  1\n",
      "data  110 --> cluster  1\n",
      "data  111 --> cluster  1\n",
      "data  112 --> cluster  1\n",
      "data  113 --> cluster  1\n",
      "data  114 --> cluster  1\n",
      "data  115 --> cluster  2\n",
      "data  116 --> cluster  1\n",
      "data  117 --> cluster  1\n",
      "data  118 --> cluster  1\n",
      "data  119 --> cluster  1\n",
      "data  120 --> cluster  1\n",
      "data  121 --> cluster  1\n",
      "data  122 --> cluster  1\n",
      "data  123 --> cluster  1\n",
      "data  124 --> cluster  1\n",
      "data  125 --> cluster  1\n",
      "data  126 --> cluster  1\n",
      "data  127 --> cluster  1\n",
      "data  128 --> cluster  1\n",
      "data  129 --> cluster  1\n",
      "data  130 --> cluster  1\n",
      "data  131 --> cluster  1\n",
      "data  132 --> cluster  1\n",
      "data  133 --> cluster  2\n",
      "data  134 --> cluster  2\n",
      "data  135 --> cluster  1\n",
      "data  136 --> cluster  1\n",
      "data  137 --> cluster  1\n",
      "data  138 --> cluster  1\n",
      "data  139 --> cluster  2\n",
      "data  140 --> cluster  1\n",
      "data  141 --> cluster  1\n",
      "data  142 --> cluster  1\n",
      "data  143 --> cluster  1\n",
      "data  144 --> cluster  1\n",
      "data  145 --> cluster  1\n",
      "data  146 --> cluster  1\n",
      "data  147 --> cluster  1\n",
      "data  148 --> cluster  2\n",
      "data  149 --> cluster  1\n",
      "data  150 --> cluster  1\n",
      "data  151 --> cluster  2\n",
      "data  152 --> cluster  1\n",
      "data  153 --> cluster  1\n",
      "data  154 --> cluster  1\n",
      "data  155 --> cluster  1\n",
      "data  156 --> cluster  1\n",
      "data  157 --> cluster  2\n",
      "data  158 --> cluster  1\n",
      "data  159 --> cluster  1\n",
      "data  160 --> cluster  1\n",
      "data  161 --> cluster  1\n",
      "data  162 --> cluster  1\n",
      "data  163 --> cluster  1\n",
      "data  164 --> cluster  1\n",
      "data  165 --> cluster  1\n",
      "data  166 --> cluster  1\n",
      "data  167 --> cluster  2\n",
      "data  168 --> cluster  2\n",
      "data  169 --> cluster  1\n",
      "data  170 --> cluster  1\n",
      "data  171 --> cluster  1\n",
      "data  172 --> cluster  1\n",
      "data  173 --> cluster  1\n",
      "data  174 --> cluster  1\n",
      "data  175 --> cluster  2\n",
      "data  176 --> cluster  1\n",
      "data  177 --> cluster  1\n",
      "data  178 --> cluster  1\n",
      "data  179 --> cluster  2\n",
      "data  180 --> cluster  1\n",
      "data  181 --> cluster  1\n",
      "data  182 --> cluster  2\n",
      "data  183 --> cluster  1\n",
      "data  184 --> cluster  1\n",
      "data  185 --> cluster  1\n",
      "data  186 --> cluster  1\n",
      "data  187 --> cluster  2\n",
      "data  188 --> cluster  1\n",
      "data  189 --> cluster  2\n",
      "data  190 --> cluster  2\n",
      "data  191 --> cluster  1\n",
      "data  192 --> cluster  1\n",
      "data  193 --> cluster  1\n",
      "data  194 --> cluster  1\n",
      "data  195 --> cluster  1\n",
      "data  196 --> cluster  1\n",
      "data  197 --> cluster  1\n",
      "data  198 --> cluster  1\n",
      "data  199 --> cluster  1\n",
      "data  200 --> cluster  1\n",
      "data  201 --> cluster  1\n",
      "data  202 --> cluster  1\n",
      "data  203 --> cluster  1\n",
      "data  204 --> cluster  1\n",
      "data  205 --> cluster  2\n",
      "data  206 --> cluster  1\n",
      "data  207 --> cluster  1\n",
      "data  208 --> cluster  1\n",
      "data  209 --> cluster  1\n",
      "data  210 --> cluster  1\n",
      "data  211 --> cluster  1\n",
      "data  212 --> cluster  1\n",
      "data  213 --> cluster  1\n",
      "data  214 --> cluster  1\n",
      "data  215 --> cluster  1\n",
      "data  216 --> cluster  1\n",
      "data  217 --> cluster  1\n",
      "data  218 --> cluster  1\n",
      "data  219 --> cluster  1\n",
      "data  220 --> cluster  1\n",
      "data  221 --> cluster  1\n",
      "data  222 --> cluster  1\n",
      "data  223 --> cluster  1\n",
      "data  224 --> cluster  1\n",
      "data  225 --> cluster  1\n",
      "data  226 --> cluster  1\n",
      "data  227 --> cluster  1\n",
      "data  228 --> cluster  1\n",
      "data  229 --> cluster  1\n",
      "data  230 --> cluster  1\n",
      "data  231 --> cluster  1\n",
      "data  232 --> cluster  1\n",
      "data  233 --> cluster  2\n",
      "data  234 --> cluster  1\n",
      "data  235 --> cluster  1\n",
      "data  236 --> cluster  1\n",
      "data  237 --> cluster  1\n",
      "data  238 --> cluster  1\n",
      "data  239 --> cluster  1\n",
      "data  240 --> cluster  1\n",
      "data  241 --> cluster  1\n",
      "data  242 --> cluster  1\n",
      "data  243 --> cluster  1\n",
      "data  244 --> cluster  1\n",
      "data  245 --> cluster  1\n",
      "data  246 --> cluster  1\n",
      "data  247 --> cluster  1\n",
      "data  248 --> cluster  1\n",
      "data  249 --> cluster  1\n",
      "data  250 --> cluster  2\n",
      "data  251 --> cluster  1\n",
      "data  252 --> cluster  2\n",
      "data  253 --> cluster  1\n",
      "data  254 --> cluster  1\n",
      "data  255 --> cluster  1\n",
      "data  256 --> cluster  1\n",
      "data  257 --> cluster  1\n",
      "data  258 --> cluster  1\n",
      "data  259 --> cluster  1\n",
      "data  260 --> cluster  1\n",
      "data  261 --> cluster  1\n",
      "data  262 --> cluster  1\n",
      "data  263 --> cluster  1\n",
      "data  264 --> cluster  1\n",
      "data  265 --> cluster  1\n",
      "data  266 --> cluster  1\n",
      "data  267 --> cluster  1\n",
      "data  268 --> cluster  1\n",
      "data  269 --> cluster  1\n",
      "data  270 --> cluster  1\n",
      "data  271 --> cluster  1\n",
      "data  272 --> cluster  1\n",
      "data  273 --> cluster  1\n",
      "data  274 --> cluster  1\n",
      "data  275 --> cluster  1\n",
      "data  276 --> cluster  1\n",
      "data  277 --> cluster  2\n",
      "data  278 --> cluster  1\n",
      "data  279 --> cluster  1\n",
      "data  280 --> cluster  1\n",
      "data  281 --> cluster  1\n",
      "data  282 --> cluster  1\n",
      "data  283 --> cluster  1\n",
      "data  284 --> cluster  1\n",
      "data  285 --> cluster  1\n",
      "data  286 --> cluster  1\n",
      "data  287 --> cluster  1\n",
      "data  288 --> cluster  1\n",
      "data  289 --> cluster  1\n",
      "data  290 --> cluster  1\n",
      "data  291 --> cluster  1\n",
      "data  292 --> cluster  1\n",
      "data  293 --> cluster  1\n",
      "data  294 --> cluster  2\n",
      "data  295 --> cluster  1\n",
      "data  296 --> cluster  1\n",
      "data  297 --> cluster  1\n",
      "data  298 --> cluster  1\n",
      "data  299 --> cluster  1\n",
      "data  300 --> cluster  2\n",
      "data  301 --> cluster  1\n",
      "data  302 --> cluster  1\n",
      "data  303 --> cluster  1\n",
      "data  304 --> cluster  1\n",
      "data  305 --> cluster  1\n",
      "data  306 --> cluster  1\n",
      "data  307 --> cluster  2\n",
      "data  308 --> cluster  1\n",
      "data  309 --> cluster  1\n",
      "data  310 --> cluster  1\n",
      "data  311 --> cluster  2\n",
      "data  312 --> cluster  2\n",
      "data  313 --> cluster  1\n",
      "data  314 --> cluster  1\n",
      "data  315 --> cluster  1\n",
      "data  316 --> cluster  2\n",
      "data  317 --> cluster  2\n",
      "data  318 --> cluster  1\n",
      "data  319 --> cluster  1\n",
      "data  320 --> cluster  1\n",
      "data  321 --> cluster  1\n",
      "data  322 --> cluster  1\n",
      "data  323 --> cluster  2\n",
      "data  324 --> cluster  1\n",
      "data  325 --> cluster  1\n",
      "data  326 --> cluster  1\n",
      "data  327 --> cluster  1\n",
      "data  328 --> cluster  1\n",
      "data  329 --> cluster  1\n",
      "data  330 --> cluster  1\n",
      "data  331 --> cluster  2\n",
      "data  332 --> cluster  1\n",
      "data  333 --> cluster  1\n",
      "data  334 --> cluster  2\n",
      "data  335 --> cluster  1\n",
      "data  336 --> cluster  1\n",
      "data  337 --> cluster  1\n",
      "data  338 --> cluster  1\n",
      "data  339 --> cluster  1\n",
      "data  340 --> cluster  1\n",
      "data  341 --> cluster  1\n",
      "data  342 --> cluster  2\n",
      "data  343 --> cluster  2\n",
      "data  344 --> cluster  1\n",
      "data  345 --> cluster  1\n",
      "----Clustering Performance----\n",
      "Using Ground Information-> 0.0013462882324621383\n",
      "Without using ground Information-> 0.6309666153020461\n"
     ]
    },
    {
     "name": "stdout",
     "output_type": "stream",
     "text": [
      "            alkphos    drinks     gammagt        mcv       sgot       sgpt\n",
      "clusture                                                                  \n",
      "0.0       69.175896  3.144951   27.055375  89.970684  22.859935  26.798046\n",
      "1.0       75.473684  5.960526  129.000000  91.684211  39.052632  59.552632\n"
     ]
    },
    {
     "data": {
      "application/vnd.plotly.v1+json": {
       "config": {
        "plotlyServerURL": "https://plot.ly"
       },
       "data": [
        {
         "fill": "toself",
         "name": "cluster 1",
         "r": [
          69.17589576547232,
          3.1449511400651464,
          27.055374592833875,
          89.97068403908794,
          22.859934853420196,
          26.798045602605864
         ],
         "theta": [
          "alkphos",
          "drinks",
          "gammagt",
          "mcv",
          "sgot",
          "sgpt"
         ],
         "type": "scatterpolar"
        },
        {
         "fill": "toself",
         "name": "cluster 2",
         "r": [
          75.47368421052632,
          5.9605263157894735,
          129,
          91.6842105263158,
          39.05263157894737,
          59.55263157894737
         ],
         "theta": [
          "alkphos",
          "drinks",
          "gammagt",
          "mcv",
          "sgot",
          "sgpt"
         ],
         "type": "scatterpolar"
        }
       ],
       "layout": {
        "polar": {
         "radialaxis": {
          "visible": true
         }
        },
        "template": {
         "data": {
          "bar": [
           {
            "error_x": {
             "color": "#2a3f5f"
            },
            "error_y": {
             "color": "#2a3f5f"
            },
            "marker": {
             "line": {
              "color": "#E5ECF6",
              "width": 0.5
             },
             "pattern": {
              "fillmode": "overlay",
              "size": 10,
              "solidity": 0.2
             }
            },
            "type": "bar"
           }
          ],
          "barpolar": [
           {
            "marker": {
             "line": {
              "color": "#E5ECF6",
              "width": 0.5
             },
             "pattern": {
              "fillmode": "overlay",
              "size": 10,
              "solidity": 0.2
             }
            },
            "type": "barpolar"
           }
          ],
          "carpet": [
           {
            "aaxis": {
             "endlinecolor": "#2a3f5f",
             "gridcolor": "white",
             "linecolor": "white",
             "minorgridcolor": "white",
             "startlinecolor": "#2a3f5f"
            },
            "baxis": {
             "endlinecolor": "#2a3f5f",
             "gridcolor": "white",
             "linecolor": "white",
             "minorgridcolor": "white",
             "startlinecolor": "#2a3f5f"
            },
            "type": "carpet"
           }
          ],
          "choropleth": [
           {
            "colorbar": {
             "outlinewidth": 0,
             "ticks": ""
            },
            "type": "choropleth"
           }
          ],
          "contour": [
           {
            "colorbar": {
             "outlinewidth": 0,
             "ticks": ""
            },
            "colorscale": [
             [
              0,
              "#0d0887"
             ],
             [
              0.1111111111111111,
              "#46039f"
             ],
             [
              0.2222222222222222,
              "#7201a8"
             ],
             [
              0.3333333333333333,
              "#9c179e"
             ],
             [
              0.4444444444444444,
              "#bd3786"
             ],
             [
              0.5555555555555556,
              "#d8576b"
             ],
             [
              0.6666666666666666,
              "#ed7953"
             ],
             [
              0.7777777777777778,
              "#fb9f3a"
             ],
             [
              0.8888888888888888,
              "#fdca26"
             ],
             [
              1,
              "#f0f921"
             ]
            ],
            "type": "contour"
           }
          ],
          "contourcarpet": [
           {
            "colorbar": {
             "outlinewidth": 0,
             "ticks": ""
            },
            "type": "contourcarpet"
           }
          ],
          "heatmap": [
           {
            "colorbar": {
             "outlinewidth": 0,
             "ticks": ""
            },
            "colorscale": [
             [
              0,
              "#0d0887"
             ],
             [
              0.1111111111111111,
              "#46039f"
             ],
             [
              0.2222222222222222,
              "#7201a8"
             ],
             [
              0.3333333333333333,
              "#9c179e"
             ],
             [
              0.4444444444444444,
              "#bd3786"
             ],
             [
              0.5555555555555556,
              "#d8576b"
             ],
             [
              0.6666666666666666,
              "#ed7953"
             ],
             [
              0.7777777777777778,
              "#fb9f3a"
             ],
             [
              0.8888888888888888,
              "#fdca26"
             ],
             [
              1,
              "#f0f921"
             ]
            ],
            "type": "heatmap"
           }
          ],
          "heatmapgl": [
           {
            "colorbar": {
             "outlinewidth": 0,
             "ticks": ""
            },
            "colorscale": [
             [
              0,
              "#0d0887"
             ],
             [
              0.1111111111111111,
              "#46039f"
             ],
             [
              0.2222222222222222,
              "#7201a8"
             ],
             [
              0.3333333333333333,
              "#9c179e"
             ],
             [
              0.4444444444444444,
              "#bd3786"
             ],
             [
              0.5555555555555556,
              "#d8576b"
             ],
             [
              0.6666666666666666,
              "#ed7953"
             ],
             [
              0.7777777777777778,
              "#fb9f3a"
             ],
             [
              0.8888888888888888,
              "#fdca26"
             ],
             [
              1,
              "#f0f921"
             ]
            ],
            "type": "heatmapgl"
           }
          ],
          "histogram": [
           {
            "marker": {
             "pattern": {
              "fillmode": "overlay",
              "size": 10,
              "solidity": 0.2
             }
            },
            "type": "histogram"
           }
          ],
          "histogram2d": [
           {
            "colorbar": {
             "outlinewidth": 0,
             "ticks": ""
            },
            "colorscale": [
             [
              0,
              "#0d0887"
             ],
             [
              0.1111111111111111,
              "#46039f"
             ],
             [
              0.2222222222222222,
              "#7201a8"
             ],
             [
              0.3333333333333333,
              "#9c179e"
             ],
             [
              0.4444444444444444,
              "#bd3786"
             ],
             [
              0.5555555555555556,
              "#d8576b"
             ],
             [
              0.6666666666666666,
              "#ed7953"
             ],
             [
              0.7777777777777778,
              "#fb9f3a"
             ],
             [
              0.8888888888888888,
              "#fdca26"
             ],
             [
              1,
              "#f0f921"
             ]
            ],
            "type": "histogram2d"
           }
          ],
          "histogram2dcontour": [
           {
            "colorbar": {
             "outlinewidth": 0,
             "ticks": ""
            },
            "colorscale": [
             [
              0,
              "#0d0887"
             ],
             [
              0.1111111111111111,
              "#46039f"
             ],
             [
              0.2222222222222222,
              "#7201a8"
             ],
             [
              0.3333333333333333,
              "#9c179e"
             ],
             [
              0.4444444444444444,
              "#bd3786"
             ],
             [
              0.5555555555555556,
              "#d8576b"
             ],
             [
              0.6666666666666666,
              "#ed7953"
             ],
             [
              0.7777777777777778,
              "#fb9f3a"
             ],
             [
              0.8888888888888888,
              "#fdca26"
             ],
             [
              1,
              "#f0f921"
             ]
            ],
            "type": "histogram2dcontour"
           }
          ],
          "mesh3d": [
           {
            "colorbar": {
             "outlinewidth": 0,
             "ticks": ""
            },
            "type": "mesh3d"
           }
          ],
          "parcoords": [
           {
            "line": {
             "colorbar": {
              "outlinewidth": 0,
              "ticks": ""
             }
            },
            "type": "parcoords"
           }
          ],
          "pie": [
           {
            "automargin": true,
            "type": "pie"
           }
          ],
          "scatter": [
           {
            "marker": {
             "colorbar": {
              "outlinewidth": 0,
              "ticks": ""
             }
            },
            "type": "scatter"
           }
          ],
          "scatter3d": [
           {
            "line": {
             "colorbar": {
              "outlinewidth": 0,
              "ticks": ""
             }
            },
            "marker": {
             "colorbar": {
              "outlinewidth": 0,
              "ticks": ""
             }
            },
            "type": "scatter3d"
           }
          ],
          "scattercarpet": [
           {
            "marker": {
             "colorbar": {
              "outlinewidth": 0,
              "ticks": ""
             }
            },
            "type": "scattercarpet"
           }
          ],
          "scattergeo": [
           {
            "marker": {
             "colorbar": {
              "outlinewidth": 0,
              "ticks": ""
             }
            },
            "type": "scattergeo"
           }
          ],
          "scattergl": [
           {
            "marker": {
             "colorbar": {
              "outlinewidth": 0,
              "ticks": ""
             }
            },
            "type": "scattergl"
           }
          ],
          "scattermapbox": [
           {
            "marker": {
             "colorbar": {
              "outlinewidth": 0,
              "ticks": ""
             }
            },
            "type": "scattermapbox"
           }
          ],
          "scatterpolar": [
           {
            "marker": {
             "colorbar": {
              "outlinewidth": 0,
              "ticks": ""
             }
            },
            "type": "scatterpolar"
           }
          ],
          "scatterpolargl": [
           {
            "marker": {
             "colorbar": {
              "outlinewidth": 0,
              "ticks": ""
             }
            },
            "type": "scatterpolargl"
           }
          ],
          "scatterternary": [
           {
            "marker": {
             "colorbar": {
              "outlinewidth": 0,
              "ticks": ""
             }
            },
            "type": "scatterternary"
           }
          ],
          "surface": [
           {
            "colorbar": {
             "outlinewidth": 0,
             "ticks": ""
            },
            "colorscale": [
             [
              0,
              "#0d0887"
             ],
             [
              0.1111111111111111,
              "#46039f"
             ],
             [
              0.2222222222222222,
              "#7201a8"
             ],
             [
              0.3333333333333333,
              "#9c179e"
             ],
             [
              0.4444444444444444,
              "#bd3786"
             ],
             [
              0.5555555555555556,
              "#d8576b"
             ],
             [
              0.6666666666666666,
              "#ed7953"
             ],
             [
              0.7777777777777778,
              "#fb9f3a"
             ],
             [
              0.8888888888888888,
              "#fdca26"
             ],
             [
              1,
              "#f0f921"
             ]
            ],
            "type": "surface"
           }
          ],
          "table": [
           {
            "cells": {
             "fill": {
              "color": "#EBF0F8"
             },
             "line": {
              "color": "white"
             }
            },
            "header": {
             "fill": {
              "color": "#C8D4E3"
             },
             "line": {
              "color": "white"
             }
            },
            "type": "table"
           }
          ]
         },
         "layout": {
          "annotationdefaults": {
           "arrowcolor": "#2a3f5f",
           "arrowhead": 0,
           "arrowwidth": 1
          },
          "autotypenumbers": "strict",
          "coloraxis": {
           "colorbar": {
            "outlinewidth": 0,
            "ticks": ""
           }
          },
          "colorscale": {
           "diverging": [
            [
             0,
             "#8e0152"
            ],
            [
             0.1,
             "#c51b7d"
            ],
            [
             0.2,
             "#de77ae"
            ],
            [
             0.3,
             "#f1b6da"
            ],
            [
             0.4,
             "#fde0ef"
            ],
            [
             0.5,
             "#f7f7f7"
            ],
            [
             0.6,
             "#e6f5d0"
            ],
            [
             0.7,
             "#b8e186"
            ],
            [
             0.8,
             "#7fbc41"
            ],
            [
             0.9,
             "#4d9221"
            ],
            [
             1,
             "#276419"
            ]
           ],
           "sequential": [
            [
             0,
             "#0d0887"
            ],
            [
             0.1111111111111111,
             "#46039f"
            ],
            [
             0.2222222222222222,
             "#7201a8"
            ],
            [
             0.3333333333333333,
             "#9c179e"
            ],
            [
             0.4444444444444444,
             "#bd3786"
            ],
            [
             0.5555555555555556,
             "#d8576b"
            ],
            [
             0.6666666666666666,
             "#ed7953"
            ],
            [
             0.7777777777777778,
             "#fb9f3a"
            ],
            [
             0.8888888888888888,
             "#fdca26"
            ],
            [
             1,
             "#f0f921"
            ]
           ],
           "sequentialminus": [
            [
             0,
             "#0d0887"
            ],
            [
             0.1111111111111111,
             "#46039f"
            ],
            [
             0.2222222222222222,
             "#7201a8"
            ],
            [
             0.3333333333333333,
             "#9c179e"
            ],
            [
             0.4444444444444444,
             "#bd3786"
            ],
            [
             0.5555555555555556,
             "#d8576b"
            ],
            [
             0.6666666666666666,
             "#ed7953"
            ],
            [
             0.7777777777777778,
             "#fb9f3a"
            ],
            [
             0.8888888888888888,
             "#fdca26"
            ],
            [
             1,
             "#f0f921"
            ]
           ]
          },
          "colorway": [
           "#636efa",
           "#EF553B",
           "#00cc96",
           "#ab63fa",
           "#FFA15A",
           "#19d3f3",
           "#FF6692",
           "#B6E880",
           "#FF97FF",
           "#FECB52"
          ],
          "font": {
           "color": "#2a3f5f"
          },
          "geo": {
           "bgcolor": "white",
           "lakecolor": "white",
           "landcolor": "#E5ECF6",
           "showlakes": true,
           "showland": true,
           "subunitcolor": "white"
          },
          "hoverlabel": {
           "align": "left"
          },
          "hovermode": "closest",
          "mapbox": {
           "style": "light"
          },
          "paper_bgcolor": "white",
          "plot_bgcolor": "#E5ECF6",
          "polar": {
           "angularaxis": {
            "gridcolor": "white",
            "linecolor": "white",
            "ticks": ""
           },
           "bgcolor": "#E5ECF6",
           "radialaxis": {
            "gridcolor": "white",
            "linecolor": "white",
            "ticks": ""
           }
          },
          "scene": {
           "xaxis": {
            "backgroundcolor": "#E5ECF6",
            "gridcolor": "white",
            "gridwidth": 2,
            "linecolor": "white",
            "showbackground": true,
            "ticks": "",
            "zerolinecolor": "white"
           },
           "yaxis": {
            "backgroundcolor": "#E5ECF6",
            "gridcolor": "white",
            "gridwidth": 2,
            "linecolor": "white",
            "showbackground": true,
            "ticks": "",
            "zerolinecolor": "white"
           },
           "zaxis": {
            "backgroundcolor": "#E5ECF6",
            "gridcolor": "white",
            "gridwidth": 2,
            "linecolor": "white",
            "showbackground": true,
            "ticks": "",
            "zerolinecolor": "white"
           }
          },
          "shapedefaults": {
           "line": {
            "color": "#2a3f5f"
           }
          },
          "ternary": {
           "aaxis": {
            "gridcolor": "white",
            "linecolor": "white",
            "ticks": ""
           },
           "baxis": {
            "gridcolor": "white",
            "linecolor": "white",
            "ticks": ""
           },
           "bgcolor": "#E5ECF6",
           "caxis": {
            "gridcolor": "white",
            "linecolor": "white",
            "ticks": ""
           }
          },
          "title": {
           "x": 0.05
          },
          "xaxis": {
           "automargin": true,
           "gridcolor": "white",
           "linecolor": "white",
           "ticks": "",
           "title": {
            "standoff": 15
           },
           "zerolinecolor": "white",
           "zerolinewidth": 2
          },
          "yaxis": {
           "automargin": true,
           "gridcolor": "white",
           "linecolor": "white",
           "ticks": "",
           "title": {
            "standoff": 15
           },
           "zerolinecolor": "white",
           "zerolinewidth": 2
          }
         }
        },
        "title": {
         "text": "visualisation of cluster according to there centroid"
        }
       }
      },
      "text/html": [
       "<div>                            <div id=\"07901e0d-532f-4199-8d28-bd3c8484e472\" class=\"plotly-graph-div\" style=\"height:525px; width:100%;\"></div>            <script type=\"text/javascript\">                require([\"plotly\"], function(Plotly) {                    window.PLOTLYENV=window.PLOTLYENV || {};                                    if (document.getElementById(\"07901e0d-532f-4199-8d28-bd3c8484e472\")) {                    Plotly.newPlot(                        \"07901e0d-532f-4199-8d28-bd3c8484e472\",                        [{\"fill\":\"toself\",\"name\":\"cluster 1\",\"r\":[69.17589576547232,3.1449511400651464,27.055374592833875,89.97068403908794,22.859934853420196,26.798045602605864],\"theta\":[\"alkphos\",\"drinks\",\"gammagt\",\"mcv\",\"sgot\",\"sgpt\"],\"type\":\"scatterpolar\"},{\"fill\":\"toself\",\"name\":\"cluster 2\",\"r\":[75.47368421052632,5.9605263157894735,129.0,91.6842105263158,39.05263157894737,59.55263157894737],\"theta\":[\"alkphos\",\"drinks\",\"gammagt\",\"mcv\",\"sgot\",\"sgpt\"],\"type\":\"scatterpolar\"}],                        {\"polar\":{\"radialaxis\":{\"visible\":true}},\"template\":{\"data\":{\"bar\":[{\"error_x\":{\"color\":\"#2a3f5f\"},\"error_y\":{\"color\":\"#2a3f5f\"},\"marker\":{\"line\":{\"color\":\"#E5ECF6\",\"width\":0.5},\"pattern\":{\"fillmode\":\"overlay\",\"size\":10,\"solidity\":0.2}},\"type\":\"bar\"}],\"barpolar\":[{\"marker\":{\"line\":{\"color\":\"#E5ECF6\",\"width\":0.5},\"pattern\":{\"fillmode\":\"overlay\",\"size\":10,\"solidity\":0.2}},\"type\":\"barpolar\"}],\"carpet\":[{\"aaxis\":{\"endlinecolor\":\"#2a3f5f\",\"gridcolor\":\"white\",\"linecolor\":\"white\",\"minorgridcolor\":\"white\",\"startlinecolor\":\"#2a3f5f\"},\"baxis\":{\"endlinecolor\":\"#2a3f5f\",\"gridcolor\":\"white\",\"linecolor\":\"white\",\"minorgridcolor\":\"white\",\"startlinecolor\":\"#2a3f5f\"},\"type\":\"carpet\"}],\"choropleth\":[{\"colorbar\":{\"outlinewidth\":0,\"ticks\":\"\"},\"type\":\"choropleth\"}],\"contour\":[{\"colorbar\":{\"outlinewidth\":0,\"ticks\":\"\"},\"colorscale\":[[0.0,\"#0d0887\"],[0.1111111111111111,\"#46039f\"],[0.2222222222222222,\"#7201a8\"],[0.3333333333333333,\"#9c179e\"],[0.4444444444444444,\"#bd3786\"],[0.5555555555555556,\"#d8576b\"],[0.6666666666666666,\"#ed7953\"],[0.7777777777777778,\"#fb9f3a\"],[0.8888888888888888,\"#fdca26\"],[1.0,\"#f0f921\"]],\"type\":\"contour\"}],\"contourcarpet\":[{\"colorbar\":{\"outlinewidth\":0,\"ticks\":\"\"},\"type\":\"contourcarpet\"}],\"heatmap\":[{\"colorbar\":{\"outlinewidth\":0,\"ticks\":\"\"},\"colorscale\":[[0.0,\"#0d0887\"],[0.1111111111111111,\"#46039f\"],[0.2222222222222222,\"#7201a8\"],[0.3333333333333333,\"#9c179e\"],[0.4444444444444444,\"#bd3786\"],[0.5555555555555556,\"#d8576b\"],[0.6666666666666666,\"#ed7953\"],[0.7777777777777778,\"#fb9f3a\"],[0.8888888888888888,\"#fdca26\"],[1.0,\"#f0f921\"]],\"type\":\"heatmap\"}],\"heatmapgl\":[{\"colorbar\":{\"outlinewidth\":0,\"ticks\":\"\"},\"colorscale\":[[0.0,\"#0d0887\"],[0.1111111111111111,\"#46039f\"],[0.2222222222222222,\"#7201a8\"],[0.3333333333333333,\"#9c179e\"],[0.4444444444444444,\"#bd3786\"],[0.5555555555555556,\"#d8576b\"],[0.6666666666666666,\"#ed7953\"],[0.7777777777777778,\"#fb9f3a\"],[0.8888888888888888,\"#fdca26\"],[1.0,\"#f0f921\"]],\"type\":\"heatmapgl\"}],\"histogram\":[{\"marker\":{\"pattern\":{\"fillmode\":\"overlay\",\"size\":10,\"solidity\":0.2}},\"type\":\"histogram\"}],\"histogram2d\":[{\"colorbar\":{\"outlinewidth\":0,\"ticks\":\"\"},\"colorscale\":[[0.0,\"#0d0887\"],[0.1111111111111111,\"#46039f\"],[0.2222222222222222,\"#7201a8\"],[0.3333333333333333,\"#9c179e\"],[0.4444444444444444,\"#bd3786\"],[0.5555555555555556,\"#d8576b\"],[0.6666666666666666,\"#ed7953\"],[0.7777777777777778,\"#fb9f3a\"],[0.8888888888888888,\"#fdca26\"],[1.0,\"#f0f921\"]],\"type\":\"histogram2d\"}],\"histogram2dcontour\":[{\"colorbar\":{\"outlinewidth\":0,\"ticks\":\"\"},\"colorscale\":[[0.0,\"#0d0887\"],[0.1111111111111111,\"#46039f\"],[0.2222222222222222,\"#7201a8\"],[0.3333333333333333,\"#9c179e\"],[0.4444444444444444,\"#bd3786\"],[0.5555555555555556,\"#d8576b\"],[0.6666666666666666,\"#ed7953\"],[0.7777777777777778,\"#fb9f3a\"],[0.8888888888888888,\"#fdca26\"],[1.0,\"#f0f921\"]],\"type\":\"histogram2dcontour\"}],\"mesh3d\":[{\"colorbar\":{\"outlinewidth\":0,\"ticks\":\"\"},\"type\":\"mesh3d\"}],\"parcoords\":[{\"line\":{\"colorbar\":{\"outlinewidth\":0,\"ticks\":\"\"}},\"type\":\"parcoords\"}],\"pie\":[{\"automargin\":true,\"type\":\"pie\"}],\"scatter\":[{\"marker\":{\"colorbar\":{\"outlinewidth\":0,\"ticks\":\"\"}},\"type\":\"scatter\"}],\"scatter3d\":[{\"line\":{\"colorbar\":{\"outlinewidth\":0,\"ticks\":\"\"}},\"marker\":{\"colorbar\":{\"outlinewidth\":0,\"ticks\":\"\"}},\"type\":\"scatter3d\"}],\"scattercarpet\":[{\"marker\":{\"colorbar\":{\"outlinewidth\":0,\"ticks\":\"\"}},\"type\":\"scattercarpet\"}],\"scattergeo\":[{\"marker\":{\"colorbar\":{\"outlinewidth\":0,\"ticks\":\"\"}},\"type\":\"scattergeo\"}],\"scattergl\":[{\"marker\":{\"colorbar\":{\"outlinewidth\":0,\"ticks\":\"\"}},\"type\":\"scattergl\"}],\"scattermapbox\":[{\"marker\":{\"colorbar\":{\"outlinewidth\":0,\"ticks\":\"\"}},\"type\":\"scattermapbox\"}],\"scatterpolar\":[{\"marker\":{\"colorbar\":{\"outlinewidth\":0,\"ticks\":\"\"}},\"type\":\"scatterpolar\"}],\"scatterpolargl\":[{\"marker\":{\"colorbar\":{\"outlinewidth\":0,\"ticks\":\"\"}},\"type\":\"scatterpolargl\"}],\"scatterternary\":[{\"marker\":{\"colorbar\":{\"outlinewidth\":0,\"ticks\":\"\"}},\"type\":\"scatterternary\"}],\"surface\":[{\"colorbar\":{\"outlinewidth\":0,\"ticks\":\"\"},\"colorscale\":[[0.0,\"#0d0887\"],[0.1111111111111111,\"#46039f\"],[0.2222222222222222,\"#7201a8\"],[0.3333333333333333,\"#9c179e\"],[0.4444444444444444,\"#bd3786\"],[0.5555555555555556,\"#d8576b\"],[0.6666666666666666,\"#ed7953\"],[0.7777777777777778,\"#fb9f3a\"],[0.8888888888888888,\"#fdca26\"],[1.0,\"#f0f921\"]],\"type\":\"surface\"}],\"table\":[{\"cells\":{\"fill\":{\"color\":\"#EBF0F8\"},\"line\":{\"color\":\"white\"}},\"header\":{\"fill\":{\"color\":\"#C8D4E3\"},\"line\":{\"color\":\"white\"}},\"type\":\"table\"}]},\"layout\":{\"annotationdefaults\":{\"arrowcolor\":\"#2a3f5f\",\"arrowhead\":0,\"arrowwidth\":1},\"autotypenumbers\":\"strict\",\"coloraxis\":{\"colorbar\":{\"outlinewidth\":0,\"ticks\":\"\"}},\"colorscale\":{\"diverging\":[[0,\"#8e0152\"],[0.1,\"#c51b7d\"],[0.2,\"#de77ae\"],[0.3,\"#f1b6da\"],[0.4,\"#fde0ef\"],[0.5,\"#f7f7f7\"],[0.6,\"#e6f5d0\"],[0.7,\"#b8e186\"],[0.8,\"#7fbc41\"],[0.9,\"#4d9221\"],[1,\"#276419\"]],\"sequential\":[[0.0,\"#0d0887\"],[0.1111111111111111,\"#46039f\"],[0.2222222222222222,\"#7201a8\"],[0.3333333333333333,\"#9c179e\"],[0.4444444444444444,\"#bd3786\"],[0.5555555555555556,\"#d8576b\"],[0.6666666666666666,\"#ed7953\"],[0.7777777777777778,\"#fb9f3a\"],[0.8888888888888888,\"#fdca26\"],[1.0,\"#f0f921\"]],\"sequentialminus\":[[0.0,\"#0d0887\"],[0.1111111111111111,\"#46039f\"],[0.2222222222222222,\"#7201a8\"],[0.3333333333333333,\"#9c179e\"],[0.4444444444444444,\"#bd3786\"],[0.5555555555555556,\"#d8576b\"],[0.6666666666666666,\"#ed7953\"],[0.7777777777777778,\"#fb9f3a\"],[0.8888888888888888,\"#fdca26\"],[1.0,\"#f0f921\"]]},\"colorway\":[\"#636efa\",\"#EF553B\",\"#00cc96\",\"#ab63fa\",\"#FFA15A\",\"#19d3f3\",\"#FF6692\",\"#B6E880\",\"#FF97FF\",\"#FECB52\"],\"font\":{\"color\":\"#2a3f5f\"},\"geo\":{\"bgcolor\":\"white\",\"lakecolor\":\"white\",\"landcolor\":\"#E5ECF6\",\"showlakes\":true,\"showland\":true,\"subunitcolor\":\"white\"},\"hoverlabel\":{\"align\":\"left\"},\"hovermode\":\"closest\",\"mapbox\":{\"style\":\"light\"},\"paper_bgcolor\":\"white\",\"plot_bgcolor\":\"#E5ECF6\",\"polar\":{\"angularaxis\":{\"gridcolor\":\"white\",\"linecolor\":\"white\",\"ticks\":\"\"},\"bgcolor\":\"#E5ECF6\",\"radialaxis\":{\"gridcolor\":\"white\",\"linecolor\":\"white\",\"ticks\":\"\"}},\"scene\":{\"xaxis\":{\"backgroundcolor\":\"#E5ECF6\",\"gridcolor\":\"white\",\"gridwidth\":2,\"linecolor\":\"white\",\"showbackground\":true,\"ticks\":\"\",\"zerolinecolor\":\"white\"},\"yaxis\":{\"backgroundcolor\":\"#E5ECF6\",\"gridcolor\":\"white\",\"gridwidth\":2,\"linecolor\":\"white\",\"showbackground\":true,\"ticks\":\"\",\"zerolinecolor\":\"white\"},\"zaxis\":{\"backgroundcolor\":\"#E5ECF6\",\"gridcolor\":\"white\",\"gridwidth\":2,\"linecolor\":\"white\",\"showbackground\":true,\"ticks\":\"\",\"zerolinecolor\":\"white\"}},\"shapedefaults\":{\"line\":{\"color\":\"#2a3f5f\"}},\"ternary\":{\"aaxis\":{\"gridcolor\":\"white\",\"linecolor\":\"white\",\"ticks\":\"\"},\"baxis\":{\"gridcolor\":\"white\",\"linecolor\":\"white\",\"ticks\":\"\"},\"bgcolor\":\"#E5ECF6\",\"caxis\":{\"gridcolor\":\"white\",\"linecolor\":\"white\",\"ticks\":\"\"}},\"title\":{\"x\":0.05},\"xaxis\":{\"automargin\":true,\"gridcolor\":\"white\",\"linecolor\":\"white\",\"ticks\":\"\",\"title\":{\"standoff\":15},\"zerolinecolor\":\"white\",\"zerolinewidth\":2},\"yaxis\":{\"automargin\":true,\"gridcolor\":\"white\",\"linecolor\":\"white\",\"ticks\":\"\",\"title\":{\"standoff\":15},\"zerolinecolor\":\"white\",\"zerolinewidth\":2}}},\"title\":{\"text\":\"visualisation of cluster according to there centroid\"}},                        {\"responsive\": true}                    ).then(function(){\n",
       "                            \n",
       "var gd = document.getElementById('07901e0d-532f-4199-8d28-bd3c8484e472');\n",
       "var x = new MutationObserver(function (mutations, observer) {{\n",
       "        var display = window.getComputedStyle(gd).display;\n",
       "        if (!display || display === 'none') {{\n",
       "            console.log([gd, 'removed!']);\n",
       "            Plotly.purge(gd);\n",
       "            observer.disconnect();\n",
       "        }}\n",
       "}});\n",
       "\n",
       "// Listen for the removal of the full notebook cells\n",
       "var notebookContainer = gd.closest('#notebook-container');\n",
       "if (notebookContainer) {{\n",
       "    x.observe(notebookContainer, {childList: true});\n",
       "}}\n",
       "\n",
       "// Listen for the clearing of the current output cell\n",
       "var outputEl = gd.closest('.output');\n",
       "if (outputEl) {{\n",
       "    x.observe(outputEl, {childList: true});\n",
       "}}\n",
       "\n",
       "                        })                };                });            </script>        </div>"
      ]
     },
     "metadata": {},
     "output_type": "display_data"
    }
   ],
   "source": [
    "if __name__==\"__main__\":\n",
    "    main()"
   ]
  },
  {
   "cell_type": "code",
   "execution_count": null,
   "id": "3dc99b31",
   "metadata": {},
   "outputs": [],
   "source": [
    " "
   ]
  },
  {
   "cell_type": "code",
   "execution_count": null,
   "id": "c4de6c8a",
   "metadata": {},
   "outputs": [],
   "source": []
  }
 ],
 "metadata": {
  "kernelspec": {
   "display_name": "Python 3 (ipykernel)",
   "language": "python",
   "name": "python3"
  },
  "language_info": {
   "codemirror_mode": {
    "name": "ipython",
    "version": 3
   },
   "file_extension": ".py",
   "mimetype": "text/x-python",
   "name": "python",
   "nbconvert_exporter": "python",
   "pygments_lexer": "ipython3",
   "version": "3.9.7"
  }
 },
 "nbformat": 4,
 "nbformat_minor": 5
}
