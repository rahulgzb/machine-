{
 "cells": [
  {
   "cell_type": "markdown",
   "id": "514cf223",
   "metadata": {},
   "source": [
    "# Tree_based_on_gini_index as measure of impurity"
   ]
  },
  {
   "cell_type": "code",
   "execution_count": 1,
   "id": "d8aecbf1",
   "metadata": {
    "scrolled": true
   },
   "outputs": [],
   "source": [
    "import pandas as pd\n",
    "import numpy as np\n",
    "import random\n",
    "import math\n",
    "\n",
    "import matplotlib.pyplot as plt\n",
    "%matplotlib inline\n",
    "\n",
    "from pprint import pprint\n"
   ]
  },
  {
   "cell_type": "code",
   "execution_count": 2,
   "id": "f3f78cd2",
   "metadata": {},
   "outputs": [],
   "source": [
    "#load data into panda data frame\n",
    "df = pd.read_csv(\"mydata.txt\") "
   ]
  },
  {
   "cell_type": "code",
   "execution_count": 3,
   "id": "30cf3b84",
   "metadata": {},
   "outputs": [],
   "source": [
    "#spliting the data function \n",
    "def train_test_split(df, test_size):\n",
    "    \n",
    "    if isinstance(test_size, float):\n",
    "        test_size = round(test_size * len(df))\n",
    "\n",
    "    indices = df.index.tolist()\n",
    "    test_indices = random.sample(population=indices, k=test_size)\n",
    "\n",
    "    test_df = df.loc[test_indices]\n",
    "    train_df = df.drop(test_indices)\n",
    "    \n",
    "    return train_df, test_df\n"
   ]
  },
  {
   "cell_type": "code",
   "execution_count": 4,
   "id": "0a31719e",
   "metadata": {},
   "outputs": [],
   "source": [
    "#genrating a random test sample at 80/20 split \n",
    "random.seed(0)\n",
    "train_df, test_df = train_test_split(df, test_size=0.2)"
   ]
  },
  {
   "cell_type": "code",
   "execution_count": 5,
   "id": "996dc626",
   "metadata": {},
   "outputs": [],
   "source": [
    "#ditermining type of features\n",
    "def determine_type_of_feature(df):\n",
    "    \n",
    "    feature_types = []\n",
    "    n_unique_values_treshold = 15\n",
    "    for feature in df.columns:\n",
    "        if feature != \"label\":\n",
    "            unique_values = df[feature].unique()\n",
    "            example_value = unique_values[0]\n",
    "\n",
    "            if (isinstance(example_value, str)) or (len(unique_values) <= n_unique_values_treshold):\n",
    "                feature_types.append(\"categorical\")\n",
    "            else:\n",
    "                feature_types.append(\"continuous\")\n",
    "    \n",
    "    return feature_types"
   ]
  },
  {
   "cell_type": "markdown",
   "id": "532c3177",
   "metadata": {},
   "source": [
    "# QUESTION_1"
   ]
  },
  {
   "cell_type": "code",
   "execution_count": 6,
   "id": "094ea4e6",
   "metadata": {},
   "outputs": [],
   "source": [
    "def check_purity(data):\n",
    "    \n",
    "    label_column = data[:, -1]\n",
    "    unique_classes = np.unique(label_column)\n",
    "\n",
    "    if len(unique_classes) == 1:\n",
    "        return True\n",
    "    else:\n",
    "        return False"
   ]
  },
  {
   "cell_type": "code",
   "execution_count": 7,
   "id": "f451ef80",
   "metadata": {},
   "outputs": [
    {
     "name": "stdout",
     "output_type": "stream",
     "text": [
      "intercolumnardistance - continuous\n",
      "uppermargin - continuous\n",
      "lowermargin - continuous\n",
      "exploitation - continuous\n",
      "rownumber - continuous\n",
      "modularratio - continuous\n",
      "interlinearspacing - continuous\n",
      "weight - continuous\n",
      "peaknumber - continuous\n",
      "ratio - continuous\n",
      "lable - categorical\n"
     ]
    }
   ],
   "source": [
    "feature_types = determine_type_of_feature(df)\n",
    "i=0\n",
    "for column in df.columns:\n",
    "    print(column, \"-\",feature_types[i])\n",
    "    i = i + 1\n",
    "    "
   ]
  },
  {
   "cell_type": "code",
   "execution_count": 8,
   "id": "ea0519c6",
   "metadata": {},
   "outputs": [],
   "source": [
    "def classify_data(data):\n",
    "    \n",
    "    label_column = data[:, -1]\n",
    "    unique_classes, counts_unique_classes = np.unique(label_column, return_counts=True)\n",
    "\n",
    "    index = counts_unique_classes.argmax()\n",
    "    classification = unique_classes[index]\n",
    "    \n",
    "    return classification"
   ]
  },
  {
   "cell_type": "code",
   "execution_count": 9,
   "id": "3713f6ec",
   "metadata": {},
   "outputs": [],
   "source": [
    "def split_data(data, split_column, split_value):\n",
    "    \n",
    "    split_column_values = data[:, split_column]\n",
    "\n",
    "    type_of_feature = FEATURE_TYPES[split_column]\n",
    "    if type_of_feature == \"continuous\":\n",
    "        data_below = data[split_column_values <= split_value]\n",
    "        data_above = data[split_column_values >  split_value]\n",
    "    \n",
    "    # feature is categorical   \n",
    "    else:\n",
    "        data_below = data[split_column_values == split_value]\n",
    "        data_above = data[split_column_values != split_value]\n",
    "    \n",
    "    return data_below, data_above"
   ]
  },
  {
   "cell_type": "code",
   "execution_count": 10,
   "id": "b6649818",
   "metadata": {},
   "outputs": [],
   "source": [
    "def calculate_overall_gini(data_below, data_above):\n",
    "    \n",
    "    n = len(data_below) + len(data_above)\n",
    "    p_data_below = len(data_below) / n\n",
    "    p_data_above = len(data_above) / n\n",
    "\n",
    "    overall_gini =  (p_data_below * calculate_gini(data_below) \n",
    "                      + p_data_above * calculate_gini(data_above))\n",
    "    \n",
    "    return overall_gini"
   ]
  },
  {
   "cell_type": "code",
   "execution_count": 11,
   "id": "d14ce1a8",
   "metadata": {},
   "outputs": [],
   "source": [
    "def calculate_gini(data):\n",
    "    \n",
    "    label_column = data[:, -1]\n",
    "    _, counts = np.unique(label_column, return_counts=True)\n",
    "\n",
    "    probabilities = counts / counts.sum()\n",
    "    probability = sum(probabilities*probabilities)\n",
    "    gini = 1-probability\n",
    "     \n",
    "    return gini"
   ]
  },
  {
   "cell_type": "code",
   "execution_count": null,
   "id": "2e2e76d7",
   "metadata": {},
   "outputs": [],
   "source": []
  },
  {
   "cell_type": "code",
   "execution_count": 12,
   "id": "1a6463ab",
   "metadata": {},
   "outputs": [],
   "source": [
    "def get_potential_splits(data):\n",
    "    \n",
    "    potential_splits = {}\n",
    "    _, n_columns = data.shape\n",
    "    for column_index in range(n_columns - 1):          \n",
    "        values = data[:, column_index]\n",
    "        unique_values = np.unique(values)\n",
    "        \n",
    "        type_of_feature = FEATURE_TYPES[column_index]\n",
    "        if type_of_feature == \"continuous\":\n",
    "            potential_splits[column_index] = []\n",
    "            for index in range(len(unique_values)):\n",
    "                if index != 0:\n",
    "                    current_value = unique_values[index]\n",
    "                    previous_value = unique_values[index - 1]\n",
    "                    potential_split = (current_value + previous_value) / 2\n",
    "\n",
    "                    potential_splits[column_index].append(potential_split)\n",
    "        \n",
    "        \n",
    "        elif len(unique_values) > 1:\n",
    "            potential_splits[column_index] = unique_values\n",
    "    \n",
    "    return potential_splits"
   ]
  },
  {
   "cell_type": "markdown",
   "id": "72bec099",
   "metadata": {},
   "source": [
    "# Decision_making_using_gini index"
   ]
  },
  {
   "cell_type": "code",
   "execution_count": 13,
   "id": "1663e735",
   "metadata": {},
   "outputs": [],
   "source": [
    "def determine_best_split(data, potential_splits):\n",
    "    \n",
    "    \n",
    "    gini_index = 9999\n",
    "    for column_index in potential_splits:\n",
    "        for value in potential_splits[column_index]:\n",
    "            data_below, data_above = split_data(data, split_column=column_index, split_value=value)\n",
    "            current_gini_index = calculate_overall_gini(data_below, data_above)\n",
    "            #decision making based on gini index\n",
    "            if  current_gini_index <  gini_index :\n",
    "                gini_index = current_gini_index\n",
    "                best_split_column = column_index\n",
    "                best_split_value = value\n",
    "                \n",
    "    \n",
    "    return best_split_column, best_split_value,"
   ]
  },
  {
   "cell_type": "code",
   "execution_count": 14,
   "id": "755e9844",
   "metadata": {},
   "outputs": [],
   "source": [
    "def decision_tree_algorithm(df, max_depth, counter=0, min_samples=2):\n",
    "    \n",
    "    # data preparations\n",
    "    if counter == 0:\n",
    "        global COLUMN_HEADERS, FEATURE_TYPES\n",
    "        COLUMN_HEADERS = df.columns\n",
    "        FEATURE_TYPES = determine_type_of_feature(df)\n",
    "        data = df.values\n",
    "    else:\n",
    "        data = df           \n",
    "    \n",
    "    \n",
    "    # base cases\n",
    "    if (check_purity(data)) or (len(data) < min_samples) or (counter == max_depth):\n",
    "        classification = classify_data(data)\n",
    "        \n",
    "        return classification\n",
    "\n",
    "    \n",
    "    # recursive part\n",
    "    else:    \n",
    "        counter += 1\n",
    "\n",
    "        \n",
    "        potential_splits = get_potential_splits(data)\n",
    "        split_column, split_value = determine_best_split(data, potential_splits)\n",
    "        data_below, data_above = split_data(data, split_column, split_value)\n",
    "        \n",
    "        \n",
    "        feature_name = COLUMN_HEADERS[split_column]\n",
    "        type_of_feature = FEATURE_TYPES[split_column]\n",
    "        if type_of_feature == \"continuous\":\n",
    "            question = \"{} <= {}\".format(feature_name, split_value)\n",
    "            \n",
    "        # feature is categorical\n",
    "        else:\n",
    "            question = \"{} = {}\".format(feature_name, split_value)\n",
    "        \n",
    "        \n",
    "        sub_tree = {question: []}\n",
    "        \n",
    "        # find answers (recursion)\n",
    "        yes_answer = decision_tree_algorithm(data_below, counter, min_samples, max_depth)\n",
    "        no_answer = decision_tree_algorithm(data_above, counter, min_samples, max_depth)\n",
    "        \n",
    "    \n",
    "        if yes_answer == no_answer:\n",
    "            sub_tree = yes_answer\n",
    "        else:\n",
    "            sub_tree[question].append(yes_answer)\n",
    "            sub_tree[question].append(no_answer)\n",
    "        \n",
    "        return sub_tree"
   ]
  },
  {
   "cell_type": "code",
   "execution_count": 15,
   "id": "081ac47b",
   "metadata": {},
   "outputs": [
    {
     "name": "stdout",
     "output_type": "stream",
     "text": [
      "{'rownumber <= 0.842676': [{'intercolumnardistance <= -0.08572550000000001': [{'peaknumber <= 1.3581150000000002': [{'rownumber <= 0.485163': [{'peaknumber <= 0.4850335': [{'intercolumnardistance <= -2.6902775': [{'exploitation <= 1.0325280000000001': [{'lowermargin <= 6.327745': [{'uppermargin <= 0.8079265': [{'weight <= -1.98909': ['A',\n",
      "                                                                                                                                                                                                                                                                                                                                                {'weight <= 1.829183': [{'interlinearspacing <= -0.06295150000000001': [{'interlinearspacing <= -1.4408415': ['A',\n",
      "                                                                                                                                                                                                                                                                                                                                                                                                                                                              'F']},\n",
      "                                                                                                                                                                                                                                                                                                                                                                                                                        'A']},\n",
      "                                                                                                                                                                                                                                                                                                                                                                        'A']}]},\n",
      "                                                                                                                                                                                                                                                                                                                        {'uppermargin <= 2.358535': ['Y',\n",
      "                                                                                                                                                                                                                                                                                                                                                     'A']}]},\n",
      "                                                                                                                                                                                                                                                                                          'W']},\n",
      "                                                                                                                                                                                                                                                             'X']},\n",
      "                                                                                                                                                                                                                     {'intercolumnardistance <= -0.184476': [{'intercolumnardistance <= -0.20916400000000002': [{'ratio <= 1.3988114999999999': [{'exploitation <= 1.1453755': [{'uppermargin <= 0.30152500000000004': [{'exploitation <= -0.7237100000000001': [{'intercolumnardistance <= -2.548323': ['H',\n",
      "                                                                                                                                                                                                                                                                                                                                                                                                                                                                                                         {'exploitation <= -1.195166': ['E',\n",
      "                                                                                                                                                                                                                                                                                                                                                                                                                                                                                                                                        {'uppermargin <= -0.318718': ['F',\n",
      "                                                                                                                                                                                                                                                                                                                                                                                                                                                                                                                                                                      'D']}]}]},\n",
      "                                                                                                                                                                                                                                                                                                                                                                                                                                                                 {'uppermargin <= -0.766236': ['D',\n",
      "                                                                                                                                                                                                                                                                                                                                                                                                                                                                                               {'intercolumnardistance <= -0.684402': [{'intercolumnardistance <= -1.492924': ['A',\n",
      "                                                                                                                                                                                                                                                                                                                                                                                                                                                                                                                                                                               'D']},\n",
      "                                                                                                                                                                                                                                                                                                                                                                                                                                                                                                                                       {'weight <= -0.10297049999999999': [{'exploitation <= -0.6253934999999999': ['C',\n",
      "                                                                                                                                                                                                                                                                                                                                                                                                                                                                                                                                                                                                                    {'interlinearspacing <= -0.1384525': ['D',\n",
      "                                                                                                                                                                                                                                                                                                                                                                                                                                                                                                                                                                                                                                                          'E']}]},\n",
      "                                                                                                                                                                                                                                                                                                                                                                                                                                                                                                                                                                           {'ratio <= 0.3357545': [{'weight <= 0.2613015': [{'uppermargin <= -0.17739700000000003': ['E',\n",
      "                                                                                                                                                                                                                                                                                                                                                                                                                                                                                                                                                                                                                                                                     'D']},\n",
      "                                                                                                                                                                                                                                                                                                                                                                                                                                                                                                                                                                                                                            'E']},\n",
      "                                                                                                                                                                                                                                                                                                                                                                                                                                                                                                                                                                                                   'A']}]}]}]}]},\n",
      "                                                                                                                                                                                                                                                                                                                                                                                                                        {'rownumber <= -0.274551': ['A',\n",
      "                                                                                                                                                                                                                                                                                                                                                                                                                                                    {'exploitation <= 0.23180900000000002': ['E',\n",
      "                                                                                                                                                                                                                                                                                                                                                                                                                                                                                             'F']}]}]},\n",
      "                                                                                                                                                                                                                                                                                                                                                                                {'intercolumnardistance <= -0.28939899999999996': [{'rownumber <= -0.5873745': ['E',\n",
      "                                                                                                                                                                                                                                                                                                                                                                                                                                                                'X']},\n",
      "                                                                                                                                                                                                                                                                                                                                                                                                                                   {'intercolumnardistance <= -0.2400235': ['A',\n",
      "                                                                                                                                                                                                                                                                                                                                                                                                                                                                            'X']}]}]},\n",
      "                                                                                                                                                                                                                                                                                                                                                 {'intercolumnardistance <= -0.3264305': [{'intercolumnardistance <= -0.35111800000000004': [{'uppermargin <= 0.3839625': [{'intercolumnardistance <= -0.4004935': ['E',\n",
      "                                                                                                                                                                                                                                                                                                                                                                                                                                                                                                                    'D']},\n",
      "                                                                                                                                                                                                                                                                                                                                                                                                                                                                           'A']},\n",
      "                                                                                                                                                                                                                                                                                                                                                                                                                                             'X']},\n",
      "                                                                                                                                                                                                                                                                                                                                                                                          {'intercolumnardistance <= -0.233852': ['A',\n",
      "                                                                                                                                                                                                                                                                                                                                                                                                                                  'E']}]}]},\n",
      "                                                                                                                                                                                                                                                                                                                {'lowermargin <= 0.41878150000000003': ['D',\n",
      "                                                                                                                                                                                                                                                                                                                                                        'E']}]},\n",
      "                                                                                                                                                                                                                                                             {'exploitation <= 0.10052150000000001': [{'lowermargin <= 0.30319850000000004': [{'peaknumber <= 0.0329025': [{'interlinearspacing <= -1.3275905': ['E',\n",
      "                                                                                                                                                                                                                                                                                                                                                                                                                 {'exploitation <= -0.8792854999999999': ['D',\n",
      "                                                                                                                                                                                                                                                                                                                                                                                                                                                          'A']}]},\n",
      "                                                                                                                                                                                                                                                                                                                                                                           {'interlinearspacing <= 0.3334275': [{'intercolumnardistance <= -0.110413': ['F',\n",
      "                                                                                                                                                                                                                                                                                                                                                                                                                                                        'G']},\n",
      "                                                                                                                                                                                                                                                                                                                                                                                                                'E']}]},\n",
      "                                                                                                                                                                                                                                                                                                                                              {'rownumber <= 0.217029': [{'exploitation <= -1.2653455': ['C',\n",
      "                                                                                                                                                                                                                                                                                                                                                                                                         {'intercolumnardistance <= -0.110413': ['D',\n",
      "                                                                                                                                                                                                                                                                                                                                                                                                                                                 'C']}]},\n",
      "                                                                                                                                                                                                                                                                                                                                                                         {'intercolumnardistance <= -0.135101': ['F',\n",
      "                                                                                                                                                                                                                                                                                                                                                                                                                 'E']}]}]},\n",
      "                                                                                                                                                                                                                                                                                                      {'exploitation <= 0.6943285': [{'modularratio <= 0.5848005000000001': [{'peaknumber <= -0.6842714999999999': [{'intercolumnardistance <= -0.135101': ['F',\n",
      "                                                                                                                                                                                                                                                                                                                                                                                                                                                            'A']},\n",
      "                                                                                                                                                                                                                                                                                                                                                                                                                    {'modularratio <= -1.055431': ['X',\n",
      "                                                                                                                                                                                                                                                                                                                                                                                                                                                   {'weight <= -0.348032': ['A',\n",
      "                                                                                                                                                                                                                                                                                                                                                                                                                                                                            {'weight <= 0.7061085': ['F',\n",
      "                                                                                                                                                                                                                                                                                                                                                                                                                                                                                                     {'uppermargin <= 0.09739450000000001': ['F',\n",
      "                                                                                                                                                                                                                                                                                                                                                                                                                                                                                                                                             'A']}]}]}]}]},\n",
      "                                                                                                                                                                                                                                                                                                                                                                             {'uppermargin <= 0.2347905': ['A',\n",
      "                                                                                                                                                                                                                                                                                                                                                                                                           {'interlinearspacing <= 0.163551': ['G',\n",
      "                                                                                                                                                                                                                                                                                                                                                                                                                                               'F']}]}]},\n",
      "                                                                                                                                                                                                                                                                                                                                     {'exploitation <= 1.181808': [{'modularratio <= 0.3771765': ['E',\n",
      "                                                                                                                                                                                                                                                                                                                                                                                                  {'intercolumnardistance <= -0.104241': ['D',\n",
      "                                                                                                                                                                                                                                                                                                                                                                                                                                          'H']}]},\n",
      "                                                                                                                                                                                                                                                                                                                                                                   {'uppermargin <= 0.23086450000000003': ['A',\n",
      "                                                                                                                                                                                                                                                                                                                                                                                                           {'intercolumnardistance <= -0.104241': ['G',\n",
      "                                                                                                                                                                                                                                                                                                                                                                                                                                                   'W']}]}]}]}]}]}]},\n",
      "                                                                                                                                                                            {'intercolumnardistance <= -0.12275699999999999': [{'exploitation <= 1.7477165000000001': [{'exploitation <= -0.5786074999999999': [{'intercolumnardistance <= -0.4066655': ['C',\n",
      "                                                                                                                                                                                                                                                                                                                                                         {'modularratio <= 0.48098799999999997': ['D',\n",
      "                                                                                                                                                                                                                                                                                                                                                                                                  'A']}]},\n",
      "                                                                                                                                                                                                                                                                                                                {'interlinearspacing <= -0.9500865000000001': ['I',\n",
      "                                                                                                                                                                                                                                                                                                                                                               {'uppermargin <= 0.35648349999999995': [{'uppermargin <= -0.852599': ['D',\n",
      "                                                                                                                                                                                                                                                                                                                                                                                                                                     {'lowermargin <= 0.580598': [{'modularratio <= -1.263055': ['X',\n",
      "                                                                                                                                                                                                                                                                                                                                                                                                                                                                                                 {'intercolumnardistance <= -0.135101': [{'intercolumnardistance <= -0.616511': ['E',\n",
      "                                                                                                                                                                                                                                                                                                                                                                                                                                                                                                                                                                                 {'peaknumber <= 0.7033039999999999': [{'lowermargin <= 0.1200435': [{'intercolumnardistance <= -0.277055': ['E',\n",
      "                                                                                                                                                                                                                                                                                                                                                                                                                                                                                                                                                                                                                                                                                             'A']},\n",
      "                                                                                                                                                                                                                                                                                                                                                                                                                                                                                                                                                                                                                                                     'E']},\n",
      "                                                                                                                                                                                                                                                                                                                                                                                                                                                                                                                                                                                                                       'E']}]},\n",
      "                                                                                                                                                                                                                                                                                                                                                                                                                                                                                                                                         {'lowermargin <= 0.2623': ['E',\n",
      "                                                                                                                                                                                                                                                                                                                                                                                                                                                                                                                                                                    'F']}]}]},\n",
      "                                                                                                                                                                                                                                                                                                                                                                                                                                                                  'C']}]},\n",
      "                                                                                                                                                                                                                                                                                                                                                                                                       {'uppermargin <= 0.37218549999999995': ['D',\n",
      "                                                                                                                                                                                                                                                                                                                                                                                                                                               {'lowermargin <= 0.310311': ['A',\n",
      "                                                                                                                                                                                                                                                                                                                                                                                                                                                                            'E']}]}]}]}]},\n",
      "                                                                                                                                                                                                                                                                       'X']},\n",
      "                                                                                                                                                                                                                               {'uppermargin <= 0.1248735': [{'exploitation <= -0.353509': ['E',\n",
      "                                                                                                                                                                                                                                                                                            {'lowermargin <= 0.361879': ['A',\n",
      "                                                                                                                                                                                                                                                                                                                         'D']}]},\n",
      "                                                                                                                                                                                                                                                             {'exploitation <= 1.1831655': ['H',\n",
      "                                                                                                                                                                                                                                                                                            {'intercolumnardistance <= -0.104241': ['G',\n",
      "                                                                                                                                                                                                                                                                                                                                    'W']}]}]}]}]},\n",
      "                                                                                                                                               'Y']},\n",
      "                                                                                                                    {'modularratio <= -1.0139065': ['Y',\n",
      "                                                                                                                                                    {'exploitation <= 0.3283205': [{'intercolumnardistance <= -0.17830400000000002': ['E',\n",
      "                                                                                                                                                                                                                                      'H']},\n",
      "                                                                                                                                                                                   {'uppermargin <= 6.452927': [{'intercolumnardistance <= -0.530104': ['Y',\n",
      "                                                                                                                                                                                                                                                        {'lowermargin <= 0.6481695000000001': [{'interlinearspacing <= -2.7809815': ['Y',\n",
      "                                                                                                                                                                                                                                                                                                                                     'X']},\n",
      "                                                                                                                                                                                                                                                                                               'Y']}]},\n",
      "                                                                                                                                                                                                                'B']}]}]}]},\n",
      "                                                                              {'exploitation <= 0.10833899999999999': [{'uppermargin <= -0.0282245': [{'lowermargin <= 0.169833': [{'rownumber <= 0.306407': [{'weight <= -2.4758050000000003': ['X',\n",
      "                                                                                                                                                                                                                                                 {'peaknumber <= 0.82803': [{'intercolumnardistance <= 0.0809165': [{'exploitation <= -1.6279075': ['C',\n",
      "                                                                                                                                                                                                                                                                                                                                                    {'lowermargin <= -1.2242769999999998': [{'uppermargin <= -0.3815275': ['A',\n",
      "                                                                                                                                                                                                                                                                                                                                                                                                                           {'lowermargin <= -2.5330329999999996': [{'peaknumber <= 0.2823545': ['F',\n",
      "                                                                                                                                                                                                                                                                                                                                                                                                                                                                                                'A']},\n",
      "                                                                                                                                                                                                                                                                                                                                                                                                                                                                   'E']}]},\n",
      "                                                                                                                                                                                                                                                                                                                                                                                            'A']}]},\n",
      "                                                                                                                                                                                                                                                                                                                    {'peaknumber <= 0.6097595': ['A',\n",
      "                                                                                                                                                                                                                                                                                                                                                 'E']}]},\n",
      "                                                                                                                                                                                                                                                                            'I']}]},\n"
     ]
    },
    {
     "name": "stdout",
     "output_type": "stream",
     "text": [
      "                                                                                                                                                                                                              {'intercolumnardistance <= 0.204355': ['F',\n",
      "                                                                                                                                                                                                                                                     'A']}]},\n",
      "                                                                                                                                                                                   {'lowermargin <= 0.3298715': [{'rownumber <= 0.440474': [{'rownumber <= 0.1276505': [{'uppermargin <= -0.2990905': ['F',\n",
      "                                                                                                                                                                                                                                                                                                       'A']},\n",
      "                                                                                                                                                                                                                                                                        {'uppermargin <= -0.2716115': [{'uppermargin <= -0.30301599999999995': [{'intercolumnardistance <= 0.037713': ['E',\n",
      "                                                                                                                                                                                                                                                                                                                                                                                       {'uppermargin <= -0.4011555': ['A',\n",
      "                                                                                                                                                                                                                                                                                                                                                                                                                      'F']}]},\n",
      "                                                                                                                                                                                                                                                                                                                                                'A']},\n",
      "                                                                                                                                                                                                                                                                                                       'F']}]},\n",
      "                                                                                                                                                                                                                                            'I']},\n",
      "                                                                                                                                                                                                                 {'lowermargin <= 0.52903': [{'uppermargin <= -0.31479250000000003': [{'uppermargin <= -0.5464025': ['A',\n",
      "                                                                                                                                                                                                                                                                                                                     'F']},\n",
      "                                                                                                                                                                                                                                                                                      {'intercolumnardistance <= 0.09943199999999999': [{'rownumber <= 0.217029': ['A',\n",
      "                                                                                                                                                                                                                                                                                                                                                                   {'intercolumnardistance <= -0.024006': ['H',\n",
      "                                                                                                                                                                                                                                                                                                                                                                                                           'F']}]},\n",
      "                                                                                                                                                                                                                                                                                                                                        {'intercolumnardistance <= 0.340137': [{'interlinearspacing <= -2.913108': ['F',\n",
      "                                                                                                                                                                                                                                                                                                                                                                                                                    'A']},\n",
      "                                                                                                                                                                                                                                                                                                                                                                               {'intercolumnardistance <= 0.432716': ['F',\n",
      "                                                                                                                                                                                                                                                                                                                                                                                                                      'A']}]}]}]},\n",
      "                                                                                                                                                                                                                                             {'exploitation <= -0.404458': [{'modularratio <= -0.3910335': ['A',\n",
      "                                                                                                                                                                                                                                                                                                            'D']},\n",
      "                                                                                                                                                                                                                                                                            'Y']}]}]}]},\n",
      "                                                                                                                                                      {'lowermargin <= 0.237405': [{'lowermargin <= -0.1253485': ['A',\n",
      "                                                                                                                                                                                                                  {'peaknumber <= 0.3291265': [{'uppermargin <= 0.5841675': [{'uppermargin <= 0.2858225': [{'intercolumnardistance <= 0.13029200000000002': [{'modularratio <= 0.024215': ['F',\n",
      "                                                                                                                                                                                                                                                                                                                                                                                           {'uppermargin <= 0.081692': ['H',\n",
      "                                                                                                                                                                                                                                                                                                                                                                                                                        {'uppermargin <= 0.25441800000000003': ['A',\n",
      "                                                                                                                                                                                                                                                                                                                                                                                                                                                                'F']}]}]},\n",
      "                                                                                                                                                                                                                                                                                                                                                             {'exploitation <= -0.45830000000000004': [{'lowermargin <= 0.091592': ['A',\n",
      "                                                                                                                                                                                                                                                                                                                                                                                                                                    {'lowermargin <= 0.21073150000000002': ['F',\n",
      "                                                                                                                                                                                                                                                                                                                                                                                                                                                                            'A']}]},\n",
      "                                                                                                                                                                                                                                                                                                                                                                                                       'A']}]},\n",
      "                                                                                                                                                                                                                                                                                                           {'lowermargin <= 0.2000625': [{'lowermargin <= 0.004460500000000001': ['F',\n",
      "                                                                                                                                                                                                                                                                                                                                                                                  {'rownumber <= -0.5873745': ['F',\n",
      "                                                                                                                                                                                                                                                                                                                                                                                                               {'exploitation <= -0.9992194999999999': ['G',\n",
      "                                                                                                                                                                                                                                                                                                                                                                                                                                                        {'exploitation <= -0.033332': [{'lowermargin <= 0.1822805': ['A',\n",
      "                                                                                                                                                                                                                                                                                                                                                                                                                                                                                                                     'H']},\n",
      "                                                                                                                                                                                                                                                                                                                                                                                                                                                                                       {'lowermargin <= 0.105818': ['A',\n",
      "                                                                                                                                                                                                                                                                                                                                                                                                                                                                                                                    'G']}]}]}]}]},\n",
      "                                                                                                                                                                                                                                                                                                                                         {'intercolumnardistance <= 0.24755850000000001': ['G',\n",
      "                                                                                                                                                                                                                                                                                                                                                                                           'A']}]}]},\n",
      "                                                                                                                                                                                                                                                                             {'interlinearspacing <= 0.012549500000000002': ['A',\n",
      "                                                                                                                                                                                                                                                                                                                             'F']}]},\n",
      "                                                                                                                                                                                                                                               {'uppermargin <= 0.2190875': [{'lowermargin <= 0.184059': ['A',\n",
      "                                                                                                                                                                                                                                                                                                          'H']},\n",
      "                                                                                                                                                                                                                                                                             {'intercolumnardistance <= 0.346309': [{'modularratio <= -1.6783035': ['A',\n",
      "                                                                                                                                                                                                                                                                                                                                                    'G']},\n",
      "                                                                                                                                                                                                                                                                                                                    'A']}]}]}]},\n",
      "                                                                                                                                                                                   {'uppermargin <= 0.20731100000000002': [{'lowermargin <= 0.46857099999999996': [{'intercolumnardistance <= -0.0178345': ['E',\n",
      "                                                                                                                                                                                                                                                                                                            {'modularratio <= -0.12112200000000001': [{'peaknumber <= -0.45041049999999994': [{'intercolumnardistance <= 0.346309': [{'modularratio <= -0.9308565': ['F',\n",
      "                                                                                                                                                                                                                                                                                                                                                                                                                                                                     'A']},\n",
      "                                                                                                                                                                                                                                                                                                                                                                                                                                     'H']},\n",
      "                                                                                                                                                                                                                                                                                                                                                                                              {'weight <= 1.100241': ['H',\n",
      "                                                                                                                                                                                                                                                                                                                                                                                                                      'G']}]},\n",
      "                                                                                                                                                                                                                                                                                                                                                      {'intercolumnardistance <= 0.037712999999999997': ['H',\n",
      "                                                                                                                                                                                                                                                                                                                                                                                                         {'uppermargin <= 0.19160850000000001': ['A',\n",
      "                                                                                                                                                                                                                                                                                                                                                                                                                                                 'G']}]}]}]},\n",
      "                                                                                                                                                                                                                                                                   {'intercolumnardistance <= 0.0809165': ['E',\n",
      "                                                                                                                                                                                                                                                                                                           'A']}]},\n",
      "                                                                                                                                                                                                                           {'peaknumber <= 0.3914895': [{'intercolumnardistance <= -0.048694': ['H',\n",
      "                                                                                                                                                                                                                                                                                                'A']},\n",
      "                                                                                                                                                                                                                                                        {'intercolumnardistance <= 0.451232': ['E',\n",
      "                                                                                                                                                                                                                                                                                               'I']}]}]}]}]},\n",
      "                                                                                                                       {'peaknumber <= 0.7968485000000001': [{'uppermargin <= 0.6744565': [{'lowermargin <= 0.504135': [{'intercolumnardistance <= 0.037712999999999997': [{'exploitation <= 0.956769': [{'exploitation <= 0.903702': [{'uppermargin <= 0.44284650000000003': [{'uppermargin <= 0.07776649999999999': [{'lowermargin <= 0.203619': [{'intercolumnardistance <= 0.025369': ['F',\n",
      "                                                                                                                                                                                                                                                                                                                                                                                                                                                                                           'A']},\n",
      "                                                                                                                                                                                                                                                                                                                                                                                                                                                    {'intercolumnardistance <= 0.013024999999999998': [{'lowermargin <= 0.27119099999999996': ['A',\n",
      "                                                                                                                                                                                                                                                                                                                                                                                                                                                                                                                                               {'exploitation <= 0.2085205': ['A',\n",
      "                                                                                                                                                                                                                                                                                                                                                                                                                                                                                                                                                                              {'uppermargin <= -0.059628999999999995': ['F',\n"
     ]
    },
    {
     "name": "stdout",
     "output_type": "stream",
     "text": [
      "                                                                                                                                                                                                                                                                                                                                                                                                                                                                                                                                                                                                                        'X']}]}]},\n",
      "                                                                                                                                                                                                                                                                                                                                                                                                                                                                                                       'A']}]},\n",
      "                                                                                                                                                                                                                                                                                                                                                                                                                       {'modularratio <= -0.7024695': ['H',\n",
      "                                                                                                                                                                                                                                                                                                                                                                                                                                                       'A']}]},\n",
      "                                                                                                                                                                                                                                                                                                                                                                               'F']},\n",
      "                                                                                                                                                                                                                                                                                                                                       'F']},\n",
      "                                                                                                                                                                                                                                                                                                         {'uppermargin <= 0.1562785': ['A',\n",
      "                                                                                                                                                                                                                                                                                                                                       {'intercolumnardistance <= -0.061037999999999995': ['E',\n",
      "                                                                                                                                                                                                                                                                                                                                                                                           'F']}]}]},\n",
      "                                                                                                                                                                                                                                                                           {'exploitation <= 0.48704400000000003': [{'weight <= 0.642931': [{'exploitation <= 0.223962': ['A',\n",
      "                                                                                                                                                                                                                                                                                                                                                                          {'exploitation <= 0.23841800000000002': ['F',\n",
      "                                                                                                                                                                                                                                                                                                                                                                                                                   {'interlinearspacing <= 0.1069255': [{'rownumber <= 0.217029': ['A',\n",
      "                                                                                                                                                                                                                                                                                                                                                                                                                                                                                   'F']},\n",
      "                                                                                                                                                                                                                                                                                                                                                                                                                                                        {'weight <= -0.6832': [{'intercolumnardistance <= 0.370997': [{'weight <= -0.832106': [{'uppermargin <= -0.377602': ['F',\n",
      "                                                                                                                                                                                                                                                                                                                                                                                                                                                                                                                                                                             'A']},\n",
      "                                                                                                                                                                                                                                                                                                                                                                                                                                                                                                                                               'F']},\n",
      "                                                                                                                                                                                                                                                                                                                                                                                                                                                                                                                      'H']},\n",
      "                                                                                                                                                                                                                                                                                                                                                                                                                                                                               'A']}]}]}]},\n",
      "                                                                                                                                                                                                                                                                                                                                            {'uppermargin <= -0.2284295': ['F',\n",
      "                                                                                                                                                                                                                                                                                                                                                                           {'uppermargin <= 0.5449120000000001': [{'peaknumber <= 0.5629875': [{'intercolumnardistance <= 0.1302915': ['A',\n",
      "                                                                                                                                                                                                                                                                                                                                                                                                                                                                                       'F']},\n",
      "                                                                                                                                                                                                                                                                                                                                                                                                                                               'H']},\n",
      "                                                                                                                                                                                                                                                                                                                                                                                                                  'G']}]}]},\n",
      "                                                                                                                                                                                                                                                                                                                    {'uppermargin <= -0.0674805': ['A',\n",
      "                                                                                                                                                                                                                                                                                                                                                   {'uppermargin <= 0.0031805': [{'intercolumnardistance <= 0.148808': ['F',\n",
      "                                                                                                                                                                                                                                                                                                                                                                                                                        'A']},\n",
      "                                                                                                                                                                                                                                                                                                                                                                                 {'interlinearspacing <= 0.729807': [{'modularratio <= -0.370271': [{'intercolumnardistance <= 0.09326000000000001': ['F',\n",
      "                                                                                                                                                                                                                                                                                                                                                                                                                                                                                                      'A']},\n",
      "                                                                                                                                                                                                                                                                                                                                                                                                                                                    'A']},\n",
      "                                                                                                                                                                                                                                                                                                                                                                                                                     {'uppermargin <= 0.3368555': ['A',\n",
      "                                                                                                                                                                                                                                                                                                                                                                                                                                                   'F']}]}]}]}]}]},\n",
      "                                                                                                                                                                                                                        {'uppermargin <= -0.126364': ['A',\n",
      "                                                                                                                                                                                                                                                      'E']}]},\n",
      "                                                                                                                                                                                           'F']},\n",
      "                                                                                                                                                             {'rownumber <= 0.217029': [{'lowermargin <= 0.276525': ['A',\n",
      "                                                                                                                                                                                                                     'X']},\n",
      "                                                                                                                                                                                        {'ratio <= -0.043078': [{'intercolumnardistance <= 0.0006814999999999998': ['A',\n",
      "                                                                                                                                                                                                                                                                    'H']},\n",
      "                                                                                                                                                                                                                {'intercolumnardistance <= 0.056229': ['G',\n",
      "                                                                                                                                                                                                                                                       'Y']}]}]}]}]}]},\n",
      "                           'I']}\n"
     ]
    }
   ],
   "source": [
    "gini_tree=decision_tree_algorithm(train_df,5)\n",
    "pprint(gini_tree)"
   ]
  },
  {
   "cell_type": "code",
   "execution_count": 16,
   "id": "553e8557",
   "metadata": {},
   "outputs": [],
   "source": [
    "def classify_example(example, tree):\n",
    "    question = list(tree.keys())[0]\n",
    "    feature_name, comparison_operator, value = question.split(\" \")\n",
    "\n",
    "    # ask question\n",
    "    if comparison_operator == \"<=\":  # feature is continuous\n",
    "        if example[feature_name] <= float(value):\n",
    "            answer = tree[question][0]\n",
    "        else:\n",
    "            answer = tree[question][1]\n",
    "    \n",
    "    # feature is categorical\n",
    "    else:\n",
    "        if str(example[feature_name]) == value:\n",
    "            answer = tree[question][0]\n",
    "        else:\n",
    "            answer = tree[question][1]\n",
    "\n",
    "    # base case\n",
    "    if not isinstance(answer, dict):\n",
    "        return answer\n",
    "    # recursive part\n",
    "    else:\n",
    "        residual_tree = answer\n",
    "        return classify_example(example, residual_tree)"
   ]
  },
  {
   "cell_type": "code",
   "execution_count": 17,
   "id": "bb77ec60",
   "metadata": {},
   "outputs": [
    {
     "data": {
      "text/plain": [
       "intercolumnardistance   -0.079554\n",
       "uppermargin             -0.291239\n",
       "lowermargin              0.388552\n",
       "exploitation             0.855618\n",
       "rownumber                0.261718\n",
       "modularratio             0.439463\n",
       "interlinearspacing       0.106925\n",
       "weight                   0.264864\n",
       "peaknumber              -0.060642\n",
       "ratio                    0.476817\n",
       "lable                           F\n",
       "Name: 1266, dtype: object"
      ]
     },
     "execution_count": 17,
     "metadata": {},
     "output_type": "execute_result"
    }
   ],
   "source": [
    "#taking a random sample for verification\n",
    "example=test_df.iloc[15]\n",
    "example"
   ]
  },
  {
   "cell_type": "code",
   "execution_count": 18,
   "id": "4a6d4678",
   "metadata": {},
   "outputs": [
    {
     "data": {
      "text/plain": [
       "'F'"
      ]
     },
     "execution_count": 18,
     "metadata": {},
     "output_type": "execute_result"
    }
   ],
   "source": [
    "#prediction of sample input data\n",
    "sample_data=test_df.iloc[15]\n",
    "test_data = pd.Series(sample_data)\n",
    "prediction = classify_example(test_data,gini_tree)\n",
    "prediction"
   ]
  },
  {
   "cell_type": "code",
   "execution_count": 19,
   "id": "63417d93",
   "metadata": {},
   "outputs": [],
   "source": [
    "def calculate_accuracy(df, tree):\n",
    "\n",
    "    df[\"classification\"] = df.apply(classify_example, axis=1, args=(tree,))\n",
    "    df[\"classification_correct\"] = df[\"classification\"] == df[\"lable\"]\n",
    "    \n",
    "    accuracy = df[\"classification_correct\"].mean()\n",
    "    \n",
    "    return accuracy"
   ]
  },
  {
   "cell_type": "code",
   "execution_count": 20,
   "id": "8022adb0",
   "metadata": {
    "scrolled": false
   },
   "outputs": [],
   "source": [
    "#tree using GINI INDEX measure  \n",
    "\n",
    "test_df, train_df = train_test_split(df, 0.2)\n",
    "gini_tree_accuracy = calculate_accuracy(test_df, decision_tree_algorithm(train_df, max_depth=10))"
   ]
  },
  {
   "cell_type": "code",
   "execution_count": 21,
   "id": "9e3d82a0",
   "metadata": {},
   "outputs": [
    {
     "data": {
      "text/plain": [
       "0.5855582524271845"
      ]
     },
     "execution_count": 21,
     "metadata": {},
     "output_type": "execute_result"
    }
   ],
   "source": [
    "gini_tree_accuracy"
   ]
  },
  {
   "cell_type": "code",
   "execution_count": 22,
   "id": "d4fa76fa",
   "metadata": {},
   "outputs": [],
   "source": [
    "#calculating the accuracy of 10 different random samples and generates diffrent tree on diffrent train data and storing best tree\n",
    "accList=list()\n",
    "bestTree={}\n",
    "a=-math.inf\n",
    "for i in range(10):\n",
    "    testData,trainData=train_test_split(df,test_size=0.2)\n",
    "    tree = decision_tree_algorithm(trainData,10)\n",
    "    acc= calculate_accuracy(testData,tree)\n",
    "    if(a<acc):\n",
    "        a=acc\n",
    "        bestTree=tree\n",
    "    accList.append(acc)\n",
    "    \n"
   ]
  },
  {
   "cell_type": "code",
   "execution_count": 23,
   "id": "1f5f6826",
   "metadata": {},
   "outputs": [
    {
     "name": "stdout",
     "output_type": "stream",
     "text": [
      "Accuracy of tree on ten different Random Data using GINI INDEX as measure-\n",
      "\n",
      "0.5558252427184466\n",
      "\n",
      "0.5770631067961165\n",
      "\n",
      "0.5940533980582524\n",
      "\n",
      "0.5989077669902912\n",
      "\n",
      "0.6158980582524272\n",
      "\n",
      "0.6116504854368932\n",
      "\n",
      "0.5861650485436893\n",
      "\n",
      "0.5716019417475728\n",
      "\n",
      "0.5716019417475728\n",
      "\n",
      "0.5819174757281553\n",
      "\n",
      "Best Accurracy- 0.6158980582524272\n"
     ]
    }
   ],
   "source": [
    "#printing the result of accuracy 10 random samples \n",
    "print(\"Accuracy of tree on ten different Random Data using GINI INDEX as measure-\\n\")\n",
    "for i in accList:\n",
    "    print(i)\n",
    "    print()\n",
    "print(\"Best Accurracy-\",a)"
   ]
  },
  {
   "cell_type": "code",
   "execution_count": 24,
   "id": "4a9fdd7d",
   "metadata": {},
   "outputs": [
    {
     "name": "stdout",
     "output_type": "stream",
     "text": [
      "{'rownumber <= 0.574541': [{'peaknumber <= 0.5473965000000001': [{'lowermargin <= 0.07736699999999999': [{'uppermargin <= 0.5213585000000001': [{'uppermargin <= -0.2794625': [{'uppermargin <= -0.3344205': [{'lowermargin <= 0.041803': ['A',\n",
      "                                                                                                                                                                                                                                           'E']},\n",
      "                                                                                                                                                                                                              {'intercolumnardistance <= -0.21533599999999997': ['D',\n",
      "                                                                                                                                                                                                                                                                 'F']}]},\n",
      "                                                                                                                                                                               {'exploitation <= -0.5868125': ['A',\n",
      "                                                                                                                                                                                                               {'lowermargin <= 0.0400245': ['A',\n",
      "                                                                                                                                                                                                                                             {'peaknumber <= 0.110856': ['A',\n",
      "                                                                                                                                                                                                                                                                         {'intercolumnardistance <= 0.0562285': ['G',\n",
      "                                                                                                                                                                                                                                                                                                                 'A']}]}]}]}]},\n",
      "                                                                                                                                                {'lowermargin <= 0.024020999999999997': [{'lowermargin <= -0.136017': ['A',\n",
      "                                                                                                                                                                                                                       {'peaknumber <= 0.11085600000000001': ['F',\n",
      "                                                                                                                                                                                                                                                              'G']}]},\n",
      "                                                                                                                                                                                         'A']}]},\n",
      "                                                                                                         {'exploitation <= -0.1034365': [{'uppermargin <= -0.036075499999999996': [{'lowermargin <= 0.168055': [{'intercolumnardistance <= 0.21052700000000002': ['A',\n",
      "                                                                                                                                                                                                                                                                  'X']},\n",
      "                                                                                                                                                                                                                {'rownumber <= 0.1276505': ['A',\n",
      "                                                                                                                                                                                                                                            {'peaknumber <= 0.36030799999999996': ['F',\n",
      "                                                                                                                                                                                                                                                                                   'A']}]}]},\n",
      "                                                                                                                                                                                   {'lowermargin <= 0.2516305': [{'uppermargin <= 0.22301300000000002': ['F',\n",
      "                                                                                                                                                                                                                                                         'G']},\n",
      "                                                                                                                                                                                                                 {'peaknumber <= 0.14203749999999998': ['A',\n",
      "                                                                                                                                                                                                                                                        'D']}]}]},\n",
      "                                                                                                                                         {'intercolumnardistance <= 0.111776': [{'uppermargin <= 0.183757': [{'modularratio <= 0.3979385': [{'weight <= -0.3372275': [{'uppermargin <= -0.715203': ['D',\n",
      "                                                                                                                                                                                                                                                                                                    {'exploitation <= -0.0207105': ['E',\n",
      "                                                                                                                                                                                                                                                                                                                                    'A']}]},\n",
      "                                                                                                                                                                                                                                                                      {'uppermargin <= 0.030659499999999996': [{'interlinearspacing <= 0.5033045': [{'intercolumnardistance <= -0.2400235': ['E',\n",
      "                                                                                                                                                                                                                                                                                                                                                                                             'F']},\n",
      "                                                                                                                                                                                                                                                                                                                                                    'A']},\n",
      "                                                                                                                                                                                                                                                                                                               'A']}]},\n",
      "                                                                                                                                                                                                                                            {'intercolumnardistance <= -0.283227': [{'intercolumnardistance <= -1.406517': ['A',\n",
      "                                                                                                                                                                                                                                                                                                                            'E']},\n",
      "                                                                                                                                                                                                                                                                                    {'uppermargin <= -0.3069415': [{'intercolumnardistance <= -0.0918975': ['E',\n",
      "                                                                                                                                                                                                                                                                                                                                                            'A']},\n",
      "                                                                                                                                                                                                                                                                                                                   {'modularratio <= 0.896237': ['A',\n",
      "                                                                                                                                                                                                                                                                                                                                                 {'ratio <= 0.8735040000000001': ['F',\n",
      "                                                                                                                                                                                                                                                                                                                                                                                  'A']}]}]}]}]},\n",
      "                                                                                                                                                                                                             {'lowermargin <= 0.125378': ['F',\n",
      "                                                                                                                                                                                                                                          {'exploitation <= 0.0277015': ['G',\n",
      "                                                                                                                                                                                                                                                                         {'weight <= 0.7665875': [{'intercolumnardistance <= -0.110413': ['E',\n",
      "                                                                                                                                                                                                                                                                                                                                          'F']},\n",
      "                                                                                                                                                                                                                                                                                                  'A']}]}]}]},\n",
      "                                                                                                                                                                                {'exploitation <= 0.4948765': [{'weight <= -0.789936': ['F',\n",
      "                                                                                                                                                                                                                                        {'weight <= 0.174476': ['A',\n",
      "                                                                                                                                                                                                                                                                {'peaknumber <= 0.048492999999999994': [{'ratio <= -0.53195': ['A',\n",
      "                                                                                                                                                                                                                                                                                                                               'F']},\n",
      "                                                                                                                                                                                                                                                                                                        'A']}]}]},\n",
      "                                                                                                                                                                                                               {'intercolumnardistance <= 4.679': ['A',\n",
      "                                                                                                                                                                                                                                                   'E']}]}]}]}]},\n",
      "                                                                 {'peaknumber <= 1.3737055': [{'intercolumnardistance <= -0.1474445': [{'lowermargin <= 0.3849955': [{'uppermargin <= 0.3643345': [{'ratio <= 1.2378339999999999': ['E',\n",
      "                                                                                                                                                                                                                                    'Y']},\n",
      "                                                                                                                                                                                                   'G']},\n",
      "                                                                                                                                                                     {'peaknumber <= 0.8124395': ['D',\n",
      "                                                                                                                                                                                                  {'exploitation <= 1.0524': ['E',\n",
      "                                                                                                                                                                                                                              'X']}]}]},\n",
      "                                                                                                                                       {'exploitation <= 0.8060125': [{'lowermargin <= 0.178724': [{'lowermargin <= -1.594143': ['A',\n",
      "                                                                                                                                                                                                                                 'G']},\n",
      "                                                                                                                                                                                                   {'ratio <= -0.033247': ['H',\n",
      "                                                                                                                                                                                                                           'E']}]},\n",
      "                                                                                                                                                                      'A']}]},\n",
      "                                                                                              {'intercolumnardistance <= -0.3264305': ['Y',\n",
      "                                                                                                                                       'X']}]}]},\n",
      "                           {'lowermargin <= 0.3849955': ['I',\n",
      "                                                         {'interlinearspacing <= -1.648469': ['X',\n",
      "                                                                                              'Y']}]}]}\n"
     ]
    }
   ],
   "source": [
    "#best accuracy tree\n",
    "pprint(bestTree)"
   ]
  },
  {
   "cell_type": "code",
   "execution_count": 25,
   "id": "6decbd58",
   "metadata": {},
   "outputs": [],
   "source": [
    "#finding accuracy on diffrent depths of the tree\n",
    "def get_accuracy(new_test_data):\n",
    "    test_accuracies = []\n",
    "    depth = [3,4,5,7,8,9,12,15,20,25] \n",
    "    for i in range( len(depth) ):\n",
    "        tree = decision_tree_algorithm(train_df, max_depth=depth[i])\n",
    "        accuracy = calculate_accuracy(new_test_data, tree)\n",
    "        test_accuracies.append(accuracy)\n",
    "    return test_accuracies"
   ]
  },
  {
   "cell_type": "code",
   "execution_count": 26,
   "id": "69139cd5",
   "metadata": {},
   "outputs": [
    {
     "name": "stdout",
     "output_type": "stream",
     "text": [
      "[0.5285194174757282, 0.5837378640776699, 0.5891990291262136, 0.5904126213592233, 0.5867718446601942, 0.5855582524271845, 0.5855582524271845, 0.5831310679611651, 0.5837378640776699, 0.5776699029126213]\n"
     ]
    }
   ],
   "source": [
    "test_accuracies=get_accuracy(test_df)\n",
    "print(test_accuracies)"
   ]
  },
  {
   "cell_type": "code",
   "execution_count": 27,
   "id": "7d504b17",
   "metadata": {},
   "outputs": [
    {
     "data": {
      "image/png": "[encoded data removed]",
      "text/plain": [
       "<Figure size 432x288 with 1 Axes>"
      ]
     },
     "metadata": {
      "needs_background": "light"
     },
     "output_type": "display_data"
    }
   ],
   "source": [
    "#Accuracy of the tree on different depths----\n",
    "X_N = [3,4,5,7,8,9,12,15,20,25]\n",
    "plt.plot(X_N,test_accuracies, 'b', label='Test Accuracy')\n",
    "plt.title('Test_data _Accuracy vs Depth_of_tree ')\n",
    "plt.ylabel('Accuracies')\n",
    "plt.xlabel('Depth of Tree')\n",
    "plt.legend()\n",
    "plt.grid()\n",
    "plt.xticks(np.arange(0,45, step=5))\n",
    "plt.show()"
   ]
  },
  {
   "cell_type": "code",
   "execution_count": 30,
   "id": "4d5aff05",
   "metadata": {},
   "outputs": [],
   "source": [
    "# best tree is formed at depth of 5 as same as information gain\n",
    "best_tree= decision_tree_algorithm(train_df,7)"
   ]
  },
  {
   "cell_type": "code",
   "execution_count": 31,
   "id": "0589ba7b",
   "metadata": {},
   "outputs": [
    {
     "name": "stdout",
     "output_type": "stream",
     "text": [
      "{'rownumber <= 0.529852': [{'peaknumber <= 0.640941': [{'modularratio <= -0.2041715': [{'rownumber <= 0.1276505': [{'exploitation <= -2.488079': [{'intercolumnardistance <= -3.035905': ['A',\n",
      "                                                                                                                                                                                          'H']},\n",
      "                                                                                                                                                  {'lowermargin <= 0.368992': [{'modularratio <= -0.4117955': ['A',\n",
      "                                                                                                                                                                                                               'Y']},\n",
      "                                                                                                                                                                               {'uppermargin <= -0.357974': ['E',\n",
      "                                                                                                                                                                                                             'A']}]}]},\n",
      "                                                                                                                   {'uppermargin <= 0.10524549999999999': [{'peaknumber <= -1.2611284999999999': [{'intercolumnardistance <= 0.0870885': ['E',\n",
      "                                                                                                                                                                                                                                          'A']},\n",
      "                                                                                                                                                                                                  {'modularratio <= -1.3668675000000001': ['H',\n",
      "                                                                                                                                                                                                                                           {'intercolumnardistance <= -0.172132': [{'ratio <= -0.382792': ['E',\n",
      "                                                                                                                                                                                                                                                                                                           'F']},\n",
      "                                                                                                                                                                                                                                                                                   {'lowermargin <= 0.136047': ['A',\n",
      "                                                                                                                                                                                                                                                                                                                {'lowermargin <= 0.504135': [{'exploitation <= 1.157654': ['F',\n",
      "                                                                                                                                                                                                                                                                                                                                                                           'A']},\n",
      "                                                                                                                                                                                                                                                                                                                                             'E']}]}]}]}]},\n",
      "                                                                                                                                                           {'intercolumnardistance <= 0.173495': [{'modularratio <= -0.910094': ['G',\n",
      "                                                                                                                                                                                                                                 {'modularratio <= -0.4533205': [{'uppermargin <= 0.1994595': ['G',\n",
      "                                                                                                                                                                                                                                                                                               'F']},\n",
      "                                                                                                                                                                                                                                                                 {'uppermargin <= 0.42714399999999997': ['A',\n",
      "                                                                                                                                                                                                                                                                                                         'G']}]}]},\n",
      "                                                                                                                                                                                                  {'uppermargin <= 0.4506975': [{'exploitation <= -0.35145000000000004': [{'ratio <= -0.9435125': ['A',\n",
      "                                                                                                                                                                                                                                                                                                   'H']},\n",
      "                                                                                                                                                                                                                                                                          'A']},\n",
      "                                                                                                                                                                                                                                'G']}]}]}]},\n",
      "                                                                                       {'intercolumnardistance <= -0.08572550000000001': [{'rownumber <= -0.0064165000000000055': [{'exploitation <= 0.9262': ['A',\n",
      "                                                                                                                                                                                                               'X']},\n",
      "                                                                                                                                                                                   {'peaknumber <= -0.10741400000000001': [{'weight <= -0.7235739999999999': [{'interlinearspacing <= 0.37117849999999997': [{'weight <= -1.1544505': ['E',\n",
      "                                                                                                                                                                                                                                                                                                                                       'D']},\n",
      "                                                                                                                                                                                                                                                                                                             {'modularratio <= 2.03817': ['A',\n",
      "                                                                                                                                                                                                                                                                                                                                          'D']}]},\n",
      "                                                                                                                                                                                                                                                              {'modularratio <= 0.2110765': ['F',\n",
      "                                                                                                                                                                                                                                                                                             'A']}]},\n",
      "                                                                                                                                                                                                                           {'uppermargin <= -0.8094175': ['D',\n",
      "                                                                                                                                                                                                                                                          {'exploitation <= 0.385579': ['E',\n",
      "                                                                                                                                                                                                                                                                                        {'lowermargin <= 0.6214965': [{'exploitation <= 1.0730184999999999': ['E',\n",
      "                                                                                                                                                                                                                                                                                                                                                              'X']},\n",
      "                                                                                                                                                                                                                                                                                                                      'C']}]}]}]}]},\n",
      "                                                                                                                                          {'rownumber <= -1.3024': ['F',\n",
      "                                                                                                                                                                    {'exploitation <= 0.10833899999999999': [{'ratio <= 0.9624465': [{'peaknumber <= 0.048493': [{'lowermargin <= 0.0595845': [{'rownumber <= 0.306407': ['A',\n",
      "                                                                                                                                                                                                                                                                                                                          'F']},\n",
      "                                                                                                                                                                                                                                                                                               {'intercolumnardistance <= 0.043885': ['H',\n",
      "                                                                                                                                                                                                                                                                                                                                      {'modularratio <= 0.813187': [{'peaknumber <= -0.3880475': ['F',\n",
      "                                                                                                                                                                                                                                                                                                                                                                                                  {'weight <= -0.3012895': ['A',\n",
      "                                                                                                                                                                                                                                                                                                                                                                                                                            'F']}]},\n",
      "                                                                                                                                                                                                                                                                                                                                                                    {'lowermargin <= 0.26763400000000004': ['G',\n",
      "                                                                                                                                                                                                                                                                                                                                                                                                            'A']}]}]}]},\n",
      "                                                                                                                                                                                                                                                                 {'interlinearspacing <= 1.0318105000000002': [{'rownumber <= 0.306407': [{'uppermargin <= 0.2701205': [{'exploitation <= -0.0043890000000000005': ['A',\n",
      "                                                                                                                                                                                                                                                                                                                                                                                                                    'F']},\n",
      "                                                                                                                                                                                                                                                                                                                                                                        {'rownumber <= 0.217029': ['A',\n",
      "                                                                                                                                                                                                                                                                                                                                                                                                   'G']}]},\n",
      "                                                                                                                                                                                                                                                                                                                                          'F']},\n",
      "                                                                                                                                                                                                                                                                                                               'H']}]},\n",
      "                                                                                                                                                                                                                                     {'uppermargin <= -0.1224385': [{'uppermargin <= -0.197025': ['A',\n",
      "                                                                                                                                                                                                                                                                                                  'F']},\n",
      "                                                                                                                                                                                                                                                                    'A']}]},\n",
      "                                                                                                                                                                                                             'A']}]}]}]},\n",
      "                                                       {'peaknumber <= 1.4204780000000001': [{'intercolumnardistance <= -0.1412725': [{'exploitation <= 1.6540995': [{'exploitation <= -0.475875': ['C',\n",
      "                                                                                                                                                                                                    {'ratio <= 1.2573995': ['E',\n",
      "                                                                                                                                                                                                                            'Y']}]},\n",
      "                                                                                                                                                                     'X']},\n",
      "                                                                                                                                      {'weight <= 0.6357079999999999': ['H',\n",
      "                                                                                                                                                                        {'uppermargin <= 0.32900399999999996': [{'uppermargin <= 0.132725': ['A',\n",
      "                                                                                                                                                                                                                                             'H']},\n",
      "                                                                                                                                                                                                                'G']}]}]},\n",
      "                                                                                             {'intercolumnardistance <= 0.025369499999999996': [{'uppermargin <= 6.452927': ['X',\n",
      "                                                                                                                                                                             'B']},\n",
      "                                                                                                                                                'H']}]}]},\n",
      "                           {'intercolumnardistance <= 0.3401375': [{'intercolumnardistance <= -0.258539': ['X',\n",
      "                                                                                                           'Y']},\n",
      "                                                                   'I']}]}\n"
     ]
    }
   ],
   "source": [
    "pprint(best_tree)"
   ]
  },
  {
   "cell_type": "code",
   "execution_count": null,
   "id": "f63a7127",
   "metadata": {},
   "outputs": [],
   "source": []
  }
 ],
 "metadata": {
  "interpreter": {
   "hash": "6f1cdd5a30992c4227fa674785c0e2e9de447585b7531679e792bd7fe8f57e99"
  },
  "kernelspec": {
   "display_name": "Python 3 (ipykernel)",
   "language": "python",
   "name": "python3"
  },
  "language_info": {
   "codemirror_mode": {
    "name": "ipython",
    "version": 3
   },
   "file_extension": ".py",
   "mimetype": "text/x-python",
   "name": "python",
   "nbconvert_exporter": "python",
   "pygments_lexer": "ipython3",
   "version": "3.9.6"
  }
 },
 "nbformat": 4,
 "nbformat_minor": 5
}
